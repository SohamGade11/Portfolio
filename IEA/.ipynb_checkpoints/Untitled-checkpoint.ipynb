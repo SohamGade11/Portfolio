{
 "cells": [
  {
   "cell_type": "markdown",
   "metadata": {},
   "source": [
    "## <i>EDA - Energy Technology RD&D Budget</i><br>\n",
    "### This dataset has been taken from [International Energy Agency](https://www.iea.org/)<br>\n",
    "\n",
    "##### The focus of this study is explore the [RD&D Budget Database](https://www.iea.org/data-and-statistics/data-product/energy-technology-rd-and-d-budget-database-2#documentation), which tracks the trends in spendings made for energy technologies in the IEA countries since 1974.<br>\n",
    "\n",
    "<ul>In this project we will be looking at:<br>\n",
    "    <li>Which of the countries are a part of International Energy Agency (IEA)?</li>\n",
    "    <li>Which of the sectors are provided more budget? Along with this we will also compare countries to see which to the country has highest or lowest spendings as per the sectors.</li>\n",
    "    <li>Total budget allocated by countries for Research and Development of Energy Technologies</li></ul><br>\n",
    "    \n",
    "We will see further as we explore our dataset.<br><br>\n",
    "\n",
    "<strong><u>Note:</u></strong> The dataset when downloaded from the [IEA](https://www.iea.org/) was in the form of <b>.xlsx</b> file containing columns for each year starting from 1974.<br>For convenience of data handling (preparation, cleaning & visualisation) the year columns have been <b>Unpivoted</b> using Excel's <b>Power Query</b> and then the required sheets were saved as <b>CSV</b> files.<br><br>\n",
    "\n",
    "The original xlsx file will also be available if you want to work with it directly."
   ]
  },
  {
   "cell_type": "code",
   "execution_count": 52,
   "metadata": {},
   "outputs": [],
   "source": [
    "import numpy as np\n",
    "import pandas as pd\n",
    "import re\n",
    "import matplotlib.pyplot as plt\n",
    "import seaborn as sns\n",
    "import plotly_express as px\n",
    "\n",
    "%matplotlib inline"
   ]
  },
  {
   "cell_type": "code",
   "execution_count": 2,
   "metadata": {},
   "outputs": [
    {
     "data": {
      "text/html": [
       "<div>\n",
       "<style scoped>\n",
       "    .dataframe tbody tr th:only-of-type {\n",
       "        vertical-align: middle;\n",
       "    }\n",
       "\n",
       "    .dataframe tbody tr th {\n",
       "        vertical-align: top;\n",
       "    }\n",
       "\n",
       "    .dataframe thead th {\n",
       "        text-align: right;\n",
       "    }\n",
       "</style>\n",
       "<table border=\"1\" class=\"dataframe\">\n",
       "  <thead>\n",
       "    <tr style=\"text-align: right;\">\n",
       "      <th></th>\n",
       "      <th>Country</th>\n",
       "      <th>Currency</th>\n",
       "      <th>Economic Indicators</th>\n",
       "      <th>Attribute</th>\n",
       "      <th>Value</th>\n",
       "    </tr>\n",
       "  </thead>\n",
       "  <tbody>\n",
       "    <tr>\n",
       "      <th>0</th>\n",
       "      <td>Australia</td>\n",
       "      <td>National currency (nominal)</td>\n",
       "      <td>Energy efficiency</td>\n",
       "      <td>1974</td>\n",
       "      <td>..</td>\n",
       "    </tr>\n",
       "    <tr>\n",
       "      <th>1</th>\n",
       "      <td>Australia</td>\n",
       "      <td>National currency (nominal)</td>\n",
       "      <td>Energy efficiency</td>\n",
       "      <td>1975</td>\n",
       "      <td>..</td>\n",
       "    </tr>\n",
       "    <tr>\n",
       "      <th>2</th>\n",
       "      <td>Australia</td>\n",
       "      <td>National currency (nominal)</td>\n",
       "      <td>Energy efficiency</td>\n",
       "      <td>1976</td>\n",
       "      <td>..</td>\n",
       "    </tr>\n",
       "    <tr>\n",
       "      <th>3</th>\n",
       "      <td>Australia</td>\n",
       "      <td>National currency (nominal)</td>\n",
       "      <td>Energy efficiency</td>\n",
       "      <td>1977</td>\n",
       "      <td>..</td>\n",
       "    </tr>\n",
       "    <tr>\n",
       "      <th>4</th>\n",
       "      <td>Australia</td>\n",
       "      <td>National currency (nominal)</td>\n",
       "      <td>Energy efficiency</td>\n",
       "      <td>1978</td>\n",
       "      <td>..</td>\n",
       "    </tr>\n",
       "  </tbody>\n",
       "</table>\n",
       "</div>"
      ],
      "text/plain": [
       "     Country                     Currency Economic Indicators Attribute Value\n",
       "0  Australia  National currency (nominal)   Energy efficiency      1974    ..\n",
       "1  Australia  National currency (nominal)   Energy efficiency      1975    ..\n",
       "2  Australia  National currency (nominal)   Energy efficiency      1976    ..\n",
       "3  Australia  National currency (nominal)   Energy efficiency      1977    ..\n",
       "4  Australia  National currency (nominal)   Energy efficiency      1978    .."
      ]
     },
     "execution_count": 2,
     "metadata": {},
     "output_type": "execute_result"
    }
   ],
   "source": [
    "# getting public rd & d budget\n",
    "\n",
    "public_rd = pd.read_csv('datasets/Public_RD&D_Budget_Unpivot.csv')\n",
    "\n",
    "public_rd.head()"
   ]
  },
  {
   "cell_type": "code",
   "execution_count": 3,
   "metadata": {},
   "outputs": [],
   "source": [
    "# changing column names\n",
    "\n",
    "public_rd.rename(columns={'Currency': 'Currency_type', \"Economic Indicators\": \"Sectors\",\n",
    "                          \"Attribute\": \"Year\", \"Value\": \"Amount\"}, inplace=True)\n"
   ]
  },
  {
   "cell_type": "code",
   "execution_count": 4,
   "metadata": {},
   "outputs": [
    {
     "name": "stdout",
     "output_type": "stream",
     "text": [
      "Set contains 79921 rows and 5 columns\n"
     ]
    }
   ],
   "source": [
    "# let's create funtion to check size of datasets so we can check other dataframes easily\n",
    "def df_size(df):\n",
    "    size = df.shape\n",
    "    print(f'Set contains {size[0]} rows and {size[1]} columns')\n",
    "    \n",
    "df_size(public_rd)"
   ]
  },
  {
   "cell_type": "code",
   "execution_count": 5,
   "metadata": {},
   "outputs": [
    {
     "name": "stdout",
     "output_type": "stream",
     "text": [
      "Country\t-\t0.0% null values\n",
      "Currency_type\t-\t1.2512355951502109e-05% null values\n",
      "Sectors\t-\t1.2512355951502109e-05% null values\n",
      "Year\t-\t1.2512355951502109e-05% null values\n",
      "Amount\t-\t0.0% null values\n"
     ]
    }
   ],
   "source": [
    "# create a function to check the null values in df\n",
    "\n",
    "def check_null(df):\n",
    "    for col in df.columns:\n",
    "        values = np.mean(df[col].isnull())\n",
    "        print(f\"{col}\\t-\\t{values}% null values\")\n",
    "        \n",
    "check_null(public_rd)"
   ]
  },
  {
   "cell_type": "markdown",
   "metadata": {},
   "source": [
    "There seems to be a problem! As seen in <i>'public_rd.head()'</i> The Amount column does contain null values but above it shows us 0.0% null value.<br>\n",
    "Looks like it sees \" ..  \" as values instead of null values.<br>\n",
    "\n",
    "To check this, lets see the dtypes of our dataset!"
   ]
  },
  {
   "cell_type": "code",
   "execution_count": 6,
   "metadata": {},
   "outputs": [
    {
     "name": "stdout",
     "output_type": "stream",
     "text": [
      "<class 'pandas.core.frame.DataFrame'>\n",
      "RangeIndex: 79921 entries, 0 to 79920\n",
      "Data columns (total 5 columns):\n",
      " #   Column         Non-Null Count  Dtype \n",
      "---  ------         --------------  ----- \n",
      " 0   Country        79921 non-null  object\n",
      " 1   Currency_type  79920 non-null  object\n",
      " 2   Sectors        79920 non-null  object\n",
      " 3   Year           79920 non-null  object\n",
      " 4   Amount         79921 non-null  object\n",
      "dtypes: object(5)\n",
      "memory usage: 3.0+ MB\n"
     ]
    }
   ],
   "source": [
    "# checking dtypes\n",
    "\n",
    "public_rd.info()"
   ]
  },
  {
   "cell_type": "code",
   "execution_count": 7,
   "metadata": {},
   "outputs": [],
   "source": [
    "# while unpivoting I created a total column in the end which contained NAN values\n",
    "public_rd.drop(index=79920, inplace=True) "
   ]
  },
  {
   "cell_type": "code",
   "execution_count": 8,
   "metadata": {},
   "outputs": [],
   "source": [
    "# changing year dtype from object to int\n",
    "\n",
    "# looks like year column contains text properties, hence, we will have to remove those first!\n",
    "year = list()\n",
    "for row in public_rd['Year']:\n",
    "    val = re.findall(\"^([\\d]*)\", str(row))\n",
    "    if val == '': continue\n",
    "    year.append(np.int(val[0]))\n",
    "    \n",
    "# print(year)\n",
    "public_rd['Year'] = pd.Series(year)"
   ]
  },
  {
   "cell_type": "code",
   "execution_count": 9,
   "metadata": {},
   "outputs": [
    {
     "name": "stdout",
     "output_type": "stream",
     "text": [
      "<class 'str'>\n"
     ]
    }
   ],
   "source": [
    "# changing amount dtype from object to float\n",
    "\n",
    "print(type(public_rd['Amount'][2]))\n",
    "# As expected, \" .. \" values in the column are seen as string values.\n",
    "# While filtering '..' I also came across that values contained string 'x' in more than 3000 rows\n",
    "\n",
    "# replacing string values\n",
    "for row in public_rd['Amount']:\n",
    "    if row == '..':\n",
    "        public_rd['Amount'].replace('..', 0, inplace=True)\n",
    "    if row == 'x':\n",
    "        public_rd['Amount'].replace('x', 0, inplace=True)\n",
    "\n",
    "public_rd['Amount'] = public_rd['Amount'].astype('float64')"
   ]
  },
  {
   "cell_type": "code",
   "execution_count": 10,
   "metadata": {},
   "outputs": [
    {
     "name": "stdout",
     "output_type": "stream",
     "text": [
      "<class 'pandas.core.frame.DataFrame'>\n",
      "Int64Index: 79920 entries, 0 to 79919\n",
      "Data columns (total 5 columns):\n",
      " #   Column         Non-Null Count  Dtype  \n",
      "---  ------         --------------  -----  \n",
      " 0   Country        79920 non-null  object \n",
      " 1   Currency_type  79920 non-null  object \n",
      " 2   Sectors        79920 non-null  object \n",
      " 3   Year           79920 non-null  int64  \n",
      " 4   Amount         79920 non-null  float64\n",
      "dtypes: float64(1), int64(1), object(3)\n",
      "memory usage: 6.2+ MB\n"
     ]
    }
   ],
   "source": [
    "# now let's check dtypes of our columns again\n",
    "\n",
    "public_rd.info()"
   ]
  },
  {
   "cell_type": "markdown",
   "metadata": {},
   "source": [
    "Great! now that we have converted Year and Amount columns, its time for some data vizzes!<br>\n",
    "\n",
    "Though, before we begin we need to select a currency type through which we will decide the spendings done by each country as per sectors."
   ]
  },
  {
   "cell_type": "code",
   "execution_count": 11,
   "metadata": {},
   "outputs": [
    {
     "name": "stdout",
     "output_type": "stream",
     "text": [
      "['National currency (nominal)' 'National Currency (2020 prices)'\n",
      " 'USD (2020 prices and exchange rates)' 'USD (2020 prices and PPP)'\n",
      " 'Euro (2020 prices and exchange rates)'] \n",
      "\n",
      "Set contains 15651 rows and 5 columns\n"
     ]
    }
   ],
   "source": [
    "print(public_rd['Currency_type'].unique(),\"\\n\")\n",
    "# we will be using USD (2020 prices and exchange rates) so that we can compare spendings done by each\n",
    "# country on a same scale.\n",
    "# we will be also removing rows with year 2021 since it contains incomplete data & is still in process.\n",
    "\n",
    "public_rd = public_rd[(public_rd['Currency_type'] == 'USD (2020 prices and exchange rates)') &\n",
    "                      (public_rd['Year'] != 2021) ]\n",
    "\n",
    "df_size(public_rd)"
   ]
  },
  {
   "cell_type": "code",
   "execution_count": 12,
   "metadata": {},
   "outputs": [
    {
     "data": {
      "text/html": [
       "<div>\n",
       "<style scoped>\n",
       "    .dataframe tbody tr th:only-of-type {\n",
       "        vertical-align: middle;\n",
       "    }\n",
       "\n",
       "    .dataframe tbody tr th {\n",
       "        vertical-align: top;\n",
       "    }\n",
       "\n",
       "    .dataframe thead th {\n",
       "        text-align: right;\n",
       "    }\n",
       "</style>\n",
       "<table border=\"1\" class=\"dataframe\">\n",
       "  <thead>\n",
       "    <tr style=\"text-align: right;\">\n",
       "      <th></th>\n",
       "      <th>Country</th>\n",
       "      <th>Currency_type</th>\n",
       "      <th>Sectors</th>\n",
       "      <th>Year</th>\n",
       "      <th>Amount</th>\n",
       "    </tr>\n",
       "  </thead>\n",
       "  <tbody>\n",
       "    <tr>\n",
       "      <th>864</th>\n",
       "      <td>Australia</td>\n",
       "      <td>USD (2020 prices and exchange rates)</td>\n",
       "      <td>Energy efficiency</td>\n",
       "      <td>1974</td>\n",
       "      <td>0.0</td>\n",
       "    </tr>\n",
       "    <tr>\n",
       "      <th>865</th>\n",
       "      <td>Australia</td>\n",
       "      <td>USD (2020 prices and exchange rates)</td>\n",
       "      <td>Energy efficiency</td>\n",
       "      <td>1975</td>\n",
       "      <td>0.0</td>\n",
       "    </tr>\n",
       "    <tr>\n",
       "      <th>866</th>\n",
       "      <td>Australia</td>\n",
       "      <td>USD (2020 prices and exchange rates)</td>\n",
       "      <td>Energy efficiency</td>\n",
       "      <td>1976</td>\n",
       "      <td>0.0</td>\n",
       "    </tr>\n",
       "    <tr>\n",
       "      <th>867</th>\n",
       "      <td>Australia</td>\n",
       "      <td>USD (2020 prices and exchange rates)</td>\n",
       "      <td>Energy efficiency</td>\n",
       "      <td>1977</td>\n",
       "      <td>0.0</td>\n",
       "    </tr>\n",
       "    <tr>\n",
       "      <th>868</th>\n",
       "      <td>Australia</td>\n",
       "      <td>USD (2020 prices and exchange rates)</td>\n",
       "      <td>Energy efficiency</td>\n",
       "      <td>1978</td>\n",
       "      <td>0.0</td>\n",
       "    </tr>\n",
       "  </tbody>\n",
       "</table>\n",
       "</div>"
      ],
      "text/plain": [
       "       Country                         Currency_type            Sectors  Year  \\\n",
       "864  Australia  USD (2020 prices and exchange rates)  Energy efficiency  1974   \n",
       "865  Australia  USD (2020 prices and exchange rates)  Energy efficiency  1975   \n",
       "866  Australia  USD (2020 prices and exchange rates)  Energy efficiency  1976   \n",
       "867  Australia  USD (2020 prices and exchange rates)  Energy efficiency  1977   \n",
       "868  Australia  USD (2020 prices and exchange rates)  Energy efficiency  1978   \n",
       "\n",
       "     Amount  \n",
       "864     0.0  \n",
       "865     0.0  \n",
       "866     0.0  \n",
       "867     0.0  \n",
       "868     0.0  "
      ]
     },
     "execution_count": 12,
     "metadata": {},
     "output_type": "execute_result"
    }
   ],
   "source": [
    "public_rd['Country'].unique()\n",
    "# removing regions from countries\n",
    "rd_countries = public_rd.loc[(public_rd['Country'] != 'Estimated IEA Total')\n",
    "             & (public_rd['Country'] != 'European Union')\n",
    "             & (public_rd['Country'] != 'Estimated IEA Americas total')\n",
    "             & (public_rd['Country'] != 'Estimated IEA Europe total')\n",
    "             & (public_rd['Country'] != 'Estimated IEA Asia Oceania total')]\n",
    "\n",
    "\n",
    "rd_countries.head(5)"
   ]
  },
  {
   "cell_type": "code",
   "execution_count": 13,
   "metadata": {
    "scrolled": false
   },
   "outputs": [
    {
     "data": {
      "image/png": "[encoded data removed]",
      "text/plain": [
       "<Figure size 864x648 with 1 Axes>"
      ]
     },
     "metadata": {},
     "output_type": "display_data"
    }
   ],
   "source": [
    "sector_plot = rd_countries[rd_countries['Sectors'] != 'Total Budget']\n",
    "sector_plot = sector_plot.sort_values(by='Amount', ascending=False)\n",
    "\n",
    "plt.style.use('fivethirtyeight')\n",
    "plt.figure(1, figsize=(12,9))\n",
    "ax = sns.barplot(data=sector_plot, x='Amount', y='Sectors', palette='pastel', errcolor='white')\n",
    "\n",
    "plt.title('Spendings by Sectors in Public RD&D', fontsize=25, fontweight='bold', color='black', pad=20)\n",
    "plt.ylabel(None)\n",
    "plt.xlabel('Amount in USD (millions)', fontsize=19, fontweight='bold', color='black', labelpad=20)\n",
    "ax.set_yticklabels(sector_plot['Sectors'].unique(),fontsize=17, color='black')\n",
    "plt.xticks(np.arange(0, 250, step=20),fontsize=16, color='black')\n",
    "\n",
    "# ax.set_facecolor('#2e3141')\n",
    "\n",
    "fig = plt.gcf()\n",
    "plt.show()\n",
    "\n",
    "# fig.savefig('trial.jpg', bbox_inches='tight', facecolor='#2e3141')"
   ]
  },
  {
   "cell_type": "markdown",
   "metadata": {},
   "source": [
    "#### It can be observed that in <b>Public RD & D deparments</b> most of the spendings throughout many years<i>(1974-2020)</i>, by IEA countries, for Energy Technologies, has been done in Nuclear Sectors with an approx. of 200 million USD"
   ]
  },
  {
   "cell_type": "markdown",
   "metadata": {},
   "source": [
    "#### Let's see which of the region have had a bigger budget for its Public RD&D energy departments. <br><br>This will be calculated using the mean of total budget allotted by a region for each year. \n"
   ]
  },
  {
   "cell_type": "code",
   "execution_count": 14,
   "metadata": {},
   "outputs": [
    {
     "data": {
      "image/png": "[encoded data removed]",
      "text/plain": [
       "<Figure size 864x576 with 1 Axes>"
      ]
     },
     "metadata": {},
     "output_type": "display_data"
    }
   ],
   "source": [
    "# getting only the region values and its total budget for all the years & renaming column to region\n",
    "total_budget = public_rd[public_rd['Country'].isin(['Estimated IEA Americas total',\n",
    "                                                     'Estimated IEA Europe total',\n",
    "                                                     'Estimated IEA Asia Oceania total'])]\n",
    "total_budget = total_budget.rename(columns={'Country': 'Region'})\n",
    "\n",
    "# pivoting the dataframe so that we can plot lines according to the regions\n",
    "total_budget = pd.pivot_table(total_budget, index='Year', values='Amount', columns='Region')\n",
    "\n",
    "plt.style.use('seaborn')\n",
    "plt.figure(2, figsize=(12,8))\n",
    "\n",
    "ax = sns.lineplot(data=total_budget, palette='Set1')\n",
    "ax.legend(loc='upper center', labelcolor='mfc', fontsize=14, title='Region', title_fontsize=16,\n",
    "         frameon=False)\n",
    "plt.ylabel('Amount in USD (millions)', fontsize=17, fontweight='bold', color='gray', labelpad=20)\n",
    "plt.xlabel('Year', fontsize=17, fontweight='bold', color='gray', labelpad=20)\n",
    "plt.title('Total Spendings by Region in Public RD&D', fontsize=21, pad=20, color='gray')\n",
    "ax.tick_params(labelsize=13)\n",
    "\n",
    "# ax.set_facecolor('#2e3141')\n",
    "\n",
    "fig = plt.gcf()\n",
    "plt.show()\n",
    "\n",
    "# fig.savefig('trial2.jpg', bbox_inches='tight', facecolor='#2e3141')"
   ]
  },
  {
   "cell_type": "markdown",
   "metadata": {},
   "source": [
    "### Interesting! "
   ]
  },
  {
   "cell_type": "code",
   "execution_count": 15,
   "metadata": {},
   "outputs": [
    {
     "data": {
      "text/html": [
       "<div>\n",
       "<style scoped>\n",
       "    .dataframe tbody tr th:only-of-type {\n",
       "        vertical-align: middle;\n",
       "    }\n",
       "\n",
       "    .dataframe tbody tr th {\n",
       "        vertical-align: top;\n",
       "    }\n",
       "\n",
       "    .dataframe thead th {\n",
       "        text-align: right;\n",
       "    }\n",
       "</style>\n",
       "<table border=\"1\" class=\"dataframe\">\n",
       "  <thead>\n",
       "    <tr style=\"text-align: right;\">\n",
       "      <th></th>\n",
       "      <th>Country</th>\n",
       "      <th>Currency</th>\n",
       "      <th>Economic Indicators</th>\n",
       "      <th>Attribute</th>\n",
       "      <th>Value</th>\n",
       "    </tr>\n",
       "  </thead>\n",
       "  <tbody>\n",
       "    <tr>\n",
       "      <th>0</th>\n",
       "      <td>Austria</td>\n",
       "      <td>National currency (nominal)</td>\n",
       "      <td>Energy efficiency</td>\n",
       "      <td>2013</td>\n",
       "      <td>..</td>\n",
       "    </tr>\n",
       "    <tr>\n",
       "      <th>1</th>\n",
       "      <td>Austria</td>\n",
       "      <td>National currency (nominal)</td>\n",
       "      <td>Energy efficiency</td>\n",
       "      <td>2014</td>\n",
       "      <td>..</td>\n",
       "    </tr>\n",
       "    <tr>\n",
       "      <th>2</th>\n",
       "      <td>Austria</td>\n",
       "      <td>National currency (nominal)</td>\n",
       "      <td>Energy efficiency</td>\n",
       "      <td>2015</td>\n",
       "      <td>..</td>\n",
       "    </tr>\n",
       "    <tr>\n",
       "      <th>3</th>\n",
       "      <td>Austria</td>\n",
       "      <td>National currency (nominal)</td>\n",
       "      <td>Energy efficiency</td>\n",
       "      <td>2016</td>\n",
       "      <td>..</td>\n",
       "    </tr>\n",
       "    <tr>\n",
       "      <th>4</th>\n",
       "      <td>Austria</td>\n",
       "      <td>National currency (nominal)</td>\n",
       "      <td>Energy efficiency</td>\n",
       "      <td>2017</td>\n",
       "      <td>..</td>\n",
       "    </tr>\n",
       "  </tbody>\n",
       "</table>\n",
       "</div>"
      ],
      "text/plain": [
       "   Country                     Currency Economic Indicators Attribute Value\n",
       "0  Austria  National currency (nominal)  Energy efficiency       2013    ..\n",
       "1  Austria  National currency (nominal)  Energy efficiency       2014    ..\n",
       "2  Austria  National currency (nominal)  Energy efficiency       2015    ..\n",
       "3  Austria  National currency (nominal)  Energy efficiency       2016    ..\n",
       "4  Austria  National currency (nominal)  Energy efficiency       2017    .."
      ]
     },
     "execution_count": 15,
     "metadata": {},
     "output_type": "execute_result"
    }
   ],
   "source": [
    "# now lets bring in the private RD & D dataset\n",
    "\n",
    "private_rd = pd.read_csv('datasets/Private_RD&D_Budget_Unpivot.csv')\n",
    "\n",
    "private_rd.head()"
   ]
  },
  {
   "cell_type": "code",
   "execution_count": 16,
   "metadata": {},
   "outputs": [
    {
     "name": "stdout",
     "output_type": "stream",
     "text": [
      "<class 'pandas.core.frame.DataFrame'>\n",
      "RangeIndex: 1080 entries, 0 to 1079\n",
      "Data columns (total 5 columns):\n",
      " #   Column               Non-Null Count  Dtype \n",
      "---  ------               --------------  ----- \n",
      " 0   Country              1080 non-null   object\n",
      " 1   Currency             1080 non-null   object\n",
      " 2   Economic Indicators  1080 non-null   object\n",
      " 3   Attribute            1080 non-null   object\n",
      " 4   Value                1080 non-null   object\n",
      "dtypes: object(5)\n",
      "memory usage: 42.3+ KB\n"
     ]
    }
   ],
   "source": [
    "private_rd.info()\n",
    "# looks like we will have to clean and change the dtypes on this dataset as well"
   ]
  },
  {
   "cell_type": "code",
   "execution_count": 17,
   "metadata": {},
   "outputs": [],
   "source": [
    "# before we carry on lets change the column names\n",
    "private_rd.rename(columns={'Currency': 'Currency_type', 'Economic Indicators': 'Sectors',\n",
    "                         'Attribute': 'Year', 'Value': 'Amount'}, inplace=True)"
   ]
  },
  {
   "cell_type": "code",
   "execution_count": 18,
   "metadata": {},
   "outputs": [
    {
     "data": {
      "text/plain": [
       "array(['Austria', 'Czech Republic', 'Italy'], dtype=object)"
      ]
     },
     "execution_count": 18,
     "metadata": {},
     "output_type": "execute_result"
    }
   ],
   "source": [
    "private_rd['Country'].unique()"
   ]
  },
  {
   "cell_type": "markdown",
   "metadata": {},
   "source": [
    "#### Looks like we only have 3 countries in IEA having private RD&D departments"
   ]
  },
  {
   "cell_type": "code",
   "execution_count": 19,
   "metadata": {
    "scrolled": false
   },
   "outputs": [
    {
     "data": {
      "text/plain": [
       "array(['2013', '2014', '2015', '2016', '2017', '2018', '2019',\n",
       "       '2020 Estimated'], dtype=object)"
      ]
     },
     "execution_count": 19,
     "metadata": {},
     "output_type": "execute_result"
    }
   ],
   "source": [
    "# the year's data is only from 2013 to 2020\n",
    "# (while the 2020 values are estimated we will have to remove string values from Year column)\n",
    "private_rd['Year'].unique()"
   ]
  },
  {
   "cell_type": "code",
   "execution_count": 20,
   "metadata": {},
   "outputs": [],
   "source": [
    "# converting column year from dtype object to int\n",
    "\n",
    "year = list()\n",
    "for row in private_rd['Year']:\n",
    "    val = re.findall(\"^([\\d]*)\", str(row))\n",
    "    if val == '': continue\n",
    "    year.append(np.int(val[0]))\n",
    "\n",
    "private_rd['Year'] = pd.Series(year).astype('int64')"
   ]
  },
  {
   "cell_type": "code",
   "execution_count": 21,
   "metadata": {},
   "outputs": [],
   "source": [
    "private_rd['Amount'].replace('..', np.nan, inplace=True)\n",
    "private_rd['Amount'].replace('x', np.nan, inplace=True)"
   ]
  },
  {
   "cell_type": "code",
   "execution_count": 22,
   "metadata": {},
   "outputs": [
    {
     "name": "stdout",
     "output_type": "stream",
     "text": [
      "Country\t-\t0.0% null values\n",
      "Currency_type\t-\t0.0% null values\n",
      "Sectors\t-\t0.0% null values\n",
      "Year\t-\t0.0% null values\n",
      "Amount\t-\t0.48148148148148145% null values\n"
     ]
    }
   ],
   "source": [
    "check_null(private_rd)"
   ]
  },
  {
   "cell_type": "markdown",
   "metadata": {},
   "source": [
    "##### Amount column contains 0.5 null values. Since it is less than 1% we can change to these null values to 0 without affecting our dataset."
   ]
  },
  {
   "cell_type": "code",
   "execution_count": 23,
   "metadata": {},
   "outputs": [],
   "source": [
    "private_rd['Amount'].fillna(0, inplace=True)\n",
    "private_rd['Amount'] = private_rd['Amount'].astype('float64')"
   ]
  },
  {
   "cell_type": "code",
   "execution_count": 24,
   "metadata": {},
   "outputs": [],
   "source": [
    "# before we continue we will have to choose one currency type\n",
    "# private_rd['Currency_type'].unique()\n",
    "\n",
    "private_rd = private_rd[private_rd['Currency_type'] == 'USD (2020 prices and exchange rates)']"
   ]
  },
  {
   "cell_type": "code",
   "execution_count": 25,
   "metadata": {
    "scrolled": false
   },
   "outputs": [
    {
     "data": {
      "text/html": [
       "<div>\n",
       "<style scoped>\n",
       "    .dataframe tbody tr th:only-of-type {\n",
       "        vertical-align: middle;\n",
       "    }\n",
       "\n",
       "    .dataframe tbody tr th {\n",
       "        vertical-align: top;\n",
       "    }\n",
       "\n",
       "    .dataframe thead th {\n",
       "        text-align: right;\n",
       "    }\n",
       "</style>\n",
       "<table border=\"1\" class=\"dataframe\">\n",
       "  <thead>\n",
       "    <tr style=\"text-align: right;\">\n",
       "      <th></th>\n",
       "      <th>Country</th>\n",
       "      <th>Currency_type</th>\n",
       "      <th>Sectors</th>\n",
       "      <th>Year</th>\n",
       "      <th>Amount</th>\n",
       "    </tr>\n",
       "  </thead>\n",
       "  <tbody>\n",
       "    <tr>\n",
       "      <th>144</th>\n",
       "      <td>Austria</td>\n",
       "      <td>USD (2020 prices and exchange rates)</td>\n",
       "      <td>Energy efficiency</td>\n",
       "      <td>2013</td>\n",
       "      <td>0.0</td>\n",
       "    </tr>\n",
       "    <tr>\n",
       "      <th>145</th>\n",
       "      <td>Austria</td>\n",
       "      <td>USD (2020 prices and exchange rates)</td>\n",
       "      <td>Energy efficiency</td>\n",
       "      <td>2014</td>\n",
       "      <td>0.0</td>\n",
       "    </tr>\n",
       "    <tr>\n",
       "      <th>146</th>\n",
       "      <td>Austria</td>\n",
       "      <td>USD (2020 prices and exchange rates)</td>\n",
       "      <td>Energy efficiency</td>\n",
       "      <td>2015</td>\n",
       "      <td>0.0</td>\n",
       "    </tr>\n",
       "    <tr>\n",
       "      <th>147</th>\n",
       "      <td>Austria</td>\n",
       "      <td>USD (2020 prices and exchange rates)</td>\n",
       "      <td>Energy efficiency</td>\n",
       "      <td>2016</td>\n",
       "      <td>0.0</td>\n",
       "    </tr>\n",
       "    <tr>\n",
       "      <th>148</th>\n",
       "      <td>Austria</td>\n",
       "      <td>USD (2020 prices and exchange rates)</td>\n",
       "      <td>Energy efficiency</td>\n",
       "      <td>2017</td>\n",
       "      <td>0.0</td>\n",
       "    </tr>\n",
       "  </tbody>\n",
       "</table>\n",
       "</div>"
      ],
      "text/plain": [
       "     Country                         Currency_type            Sectors  Year  \\\n",
       "144  Austria  USD (2020 prices and exchange rates)  Energy efficiency  2013   \n",
       "145  Austria  USD (2020 prices and exchange rates)  Energy efficiency  2014   \n",
       "146  Austria  USD (2020 prices and exchange rates)  Energy efficiency  2015   \n",
       "147  Austria  USD (2020 prices and exchange rates)  Energy efficiency  2016   \n",
       "148  Austria  USD (2020 prices and exchange rates)  Energy efficiency  2017   \n",
       "\n",
       "     Amount  \n",
       "144     0.0  \n",
       "145     0.0  \n",
       "146     0.0  \n",
       "147     0.0  \n",
       "148     0.0  "
      ]
     },
     "execution_count": 25,
     "metadata": {},
     "output_type": "execute_result"
    }
   ],
   "source": [
    "private_rd.head()"
   ]
  },
  {
   "cell_type": "code",
   "execution_count": 26,
   "metadata": {},
   "outputs": [
    {
     "name": "stdout",
     "output_type": "stream",
     "text": [
      "['Energy efficiency' 'Fossil fuels ' 'Renewables ' 'Nuclear'\n",
      " 'Hydrogen and fuel cells' 'Other power and storage technologies '\n",
      " 'Other cross-cutting technologies/research' 'Unallocated' 'Total Budget '\n",
      " 'Energy efficiency ' 'Fossil fuels' 'Renewables' 'Nuclear '\n",
      " 'Hydrogen and fuel cells ' 'Other power and storage technologies'\n",
      " 'Other cross-cutting technologies/research ' 'Unallocated '\n",
      " 'Total Budget']\n",
      "\n",
      "----------------------------------------\n",
      "\n",
      "['Energy efficiency' 'Fossil fuels' 'Renewables' 'Nuclear'\n",
      " 'Hydrogen and fuel cells' 'Other power and storage technologies'\n",
      " 'Other cross-cutting technologies/research' 'Unallocated' 'Total Budget']\n"
     ]
    }
   ],
   "source": [
    "print(private_rd['Sectors'].unique())\n",
    "\n",
    "# looks like we have duplicate values with an extra space, we will have to remove these blank spaces\n",
    "print('\\n----------------------------------------\\n')\n",
    "\n",
    "private_rd['Sectors'] = private_rd['Sectors'].str.rstrip()\n",
    "print(private_rd['Sectors'].unique())"
   ]
  },
  {
   "cell_type": "code",
   "execution_count": 27,
   "metadata": {},
   "outputs": [
    {
     "data": {
      "image/png": "[encoded data removed]",
      "text/plain": [
       "<Figure size 864x576 with 1 Axes>"
      ]
     },
     "metadata": {},
     "output_type": "display_data"
    }
   ],
   "source": [
    "# let's create a pivot to plot the spendings as per our country's private RD & D department\n",
    "\n",
    "# for this plot we will not use the Total Budget in the Sector's column, hence removing\n",
    "country_plot = private_rd[private_rd['Sectors'] != 'Total Budget']\n",
    "\n",
    "country_plot = pd.pivot_table(country_plot, values='Amount', index='Year', columns='Country')\n",
    "\n",
    "plt.style.use('fivethirtyeight')\n",
    "plt.figure(3, figsize=(12,8))\n",
    "\n",
    "ax = sns.barplot(data=country_plot, palette='GnBu', errcolor='gray')\n",
    "plt.ylabel('Amount in USD (millions)', fontsize=18, color='black', labelpad=20)\n",
    "plt.xlabel('Country', fontsize=18, color='black', labelpad=20)\n",
    "plt.title('Spendings by Country in Private RD&D', fontsize=20, pad=20)\n",
    "plt.xticks(color='black', fontsize=13)\n",
    "plt.yticks(color='black', fontsize=13)\n",
    "\n",
    "# ax.set_facecolor('#2e3141')\n",
    "\n",
    "fig = plt.gcf()\n",
    "plt.show()\n",
    "\n",
    "# fig.savefig('trial3.jpg', bbox_inches='tight', facecolor='#2e3141')"
   ]
  },
  {
   "cell_type": "markdown",
   "metadata": {},
   "source": [
    "### Looks like private RD&D departments in Italy spends more than 90 million USD for Energy Technologies. \n",
    "### Let's see how much it differs from Italy's public RD&D"
   ]
  },
  {
   "cell_type": "code",
   "execution_count": 78,
   "metadata": {},
   "outputs": [
    {
     "data": {
      "image/png": "[encoded data removed]",
      "text/plain": [
       "<Figure size 864x432 with 1 Axes>"
      ]
     },
     "metadata": {},
     "output_type": "display_data"
    }
   ],
   "source": [
    "# since our private RD & D data is since 2013 for the public dataset we will have to take values only\n",
    "# from 2013 as well\n",
    "\n",
    "it_public = rd_countries[(rd_countries['Country'] == 'Italy') & (rd_countries['Year'] >= 2013)].dropna()\n",
    "it_private = private_rd[(private_rd['Country'] == 'Italy')].dropna()\n",
    "\n",
    "it_public['Country'].replace('Italy', 'Italy Public RD', inplace=True)\n",
    "it_private['Country'].replace('Italy', 'Italy Private RD', inplace=True)\n",
    "\n",
    "\n",
    "\n",
    "it_total_budget = pd.merge(it_public, it_private, how='outer', on=\n",
    "                    ['Country', 'Currency_type','Sectors', 'Year', 'Amount'])\n",
    "plot = it_total_budget[it_total_budget['Sectors'] == 'Total Budget']\n",
    "\n",
    "plt.style.use('seaborn')\n",
    "sns.catplot(data=plot, x='Country', y='Amount', kind='bar', aspect=2, height=6)\n",
    "plt.ylabel('Amount in USD (millions)', fontsize=18, color='black', labelpad=20)\n",
    "plt.xlabel('Country', fontsize=18, color='black', labelpad=20)\n",
    "plt.title('Spendings by Italy in Public & Private RD&D', fontsize=20, pad=20)\n",
    "plt.xticks(color='black', fontsize=13)\n",
    "plt.yticks(color='black', fontsize=13)\n",
    "\n",
    "plt.show()"
   ]
  },
  {
   "cell_type": "markdown",
   "metadata": {},
   "source": [
    "### We can see that Italy's private RD & D Energy Technologies Departments has  more budget allocated than the public RD's\n",
    "#### Let's check how it compares with Sectors of public and private RD's departments of Italy"
   ]
  },
  {
   "cell_type": "code",
   "execution_count": 129,
   "metadata": {},
   "outputs": [
    {
     "data": {
      "application/vnd.plotly.v1+json": {
       "config": {
        "plotlyServerURL": "https://plot.ly"
       },
       "data": [
        {
         "hovertemplate": "<b>%{hovertext}</b><br><br>Department=Italy Public RD<br>Sectors=%{x}<br>Amount=%{y}<extra></extra>",
         "hovertext": [
          "2013",
          "2014",
          "2015",
          "2016",
          "2017",
          "2018",
          "2019",
          "2020",
          "2013",
          "2014",
          "2015",
          "2016",
          "2017",
          "2018",
          "2019",
          "2020",
          "2013",
          "2014",
          "2015",
          "2016",
          "2017",
          "2018",
          "2019",
          "2020",
          "2013",
          "2014",
          "2015",
          "2016",
          "2017",
          "2018",
          "2019",
          "2020",
          "2013",
          "2014",
          "2015",
          "2016",
          "2017",
          "2018",
          "2019",
          "2020",
          "2013",
          "2014",
          "2015",
          "2016",
          "2017",
          "2018",
          "2019",
          "2020",
          "2013",
          "2014",
          "2015",
          "2016",
          "2017",
          "2018",
          "2019",
          "2020",
          "2013",
          "2014",
          "2015",
          "2016",
          "2017",
          "2018",
          "2019",
          "2020"
         ],
         "legendgroup": "",
         "marker": {
          "color": "#636efa",
          "symbol": "circle"
         },
         "mode": "markers",
         "name": "",
         "orientation": "v",
         "showlegend": false,
         "type": "scatter",
         "x": [
          "Energy efficiency",
          "Energy efficiency",
          "Energy efficiency",
          "Energy efficiency",
          "Energy efficiency",
          "Energy efficiency",
          "Energy efficiency",
          "Energy efficiency",
          "Fossil fuels",
          "Fossil fuels",
          "Fossil fuels",
          "Fossil fuels",
          "Fossil fuels",
          "Fossil fuels",
          "Fossil fuels",
          "Fossil fuels",
          "Renewables",
          "Renewables",
          "Renewables",
          "Renewables",
          "Renewables",
          "Renewables",
          "Renewables",
          "Renewables",
          "Nuclear",
          "Nuclear",
          "Nuclear",
          "Nuclear",
          "Nuclear",
          "Nuclear",
          "Nuclear",
          "Nuclear",
          "Hydrogen and fuel cells",
          "Hydrogen and fuel cells",
          "Hydrogen and fuel cells",
          "Hydrogen and fuel cells",
          "Hydrogen and fuel cells",
          "Hydrogen and fuel cells",
          "Hydrogen and fuel cells",
          "Hydrogen and fuel cells",
          "Other power and storage technologies",
          "Other power and storage technologies",
          "Other power and storage technologies",
          "Other power and storage technologies",
          "Other power and storage technologies",
          "Other power and storage technologies",
          "Other power and storage technologies",
          "Other power and storage technologies",
          "Other cross-cutting technologies/research",
          "Other cross-cutting technologies/research",
          "Other cross-cutting technologies/research",
          "Other cross-cutting technologies/research",
          "Other cross-cutting technologies/research",
          "Other cross-cutting technologies/research",
          "Other cross-cutting technologies/research",
          "Other cross-cutting technologies/research",
          "Unallocated",
          "Unallocated",
          "Unallocated",
          "Unallocated",
          "Unallocated",
          "Unallocated",
          "Unallocated",
          "Unallocated"
         ],
         "xaxis": "x",
         "y": [
          89.002,
          88.016,
          79.438,
          77.424,
          78.213,
          81.092,
          0,
          0,
          130.278,
          115.687,
          100.468,
          102.095,
          103.153,
          105.452,
          0,
          0,
          138.702,
          109.536,
          93.261,
          98.158,
          99.161,
          102.673,
          0,
          0,
          117.533,
          94.565,
          92.18,
          102.819,
          103.862,
          108.18,
          0,
          0,
          15.47,
          11.77,
          21.879,
          11.298,
          11.413,
          11.903,
          0,
          0,
          100.95,
          195.864,
          119.644,
          60.483,
          61.107,
          62.74,
          0,
          0,
          52.413,
          56.68,
          75.057,
          51.085,
          51.606,
          53.634,
          0,
          0,
          0,
          0,
          0,
          0,
          0,
          0,
          0,
          0
         ],
         "yaxis": "y"
        },
        {
         "hovertemplate": "<b>%{hovertext}</b><br><br>Department=Italy Private RD<br>Sectors=%{x}<br>Amount=%{y}<extra></extra>",
         "hovertext": [
          "2013",
          "2014",
          "2015",
          "2016",
          "2017",
          "2018",
          "2019",
          "2020",
          "2013",
          "2014",
          "2015",
          "2016",
          "2017",
          "2018",
          "2019",
          "2020",
          "2013",
          "2014",
          "2015",
          "2016",
          "2017",
          "2018",
          "2019",
          "2020",
          "2013",
          "2014",
          "2015",
          "2016",
          "2017",
          "2018",
          "2019",
          "2020",
          "2013",
          "2014",
          "2015",
          "2016",
          "2017",
          "2018",
          "2019",
          "2020",
          "2013",
          "2014",
          "2015",
          "2016",
          "2017",
          "2018",
          "2019",
          "2020",
          "2013",
          "2014",
          "2015",
          "2016",
          "2017",
          "2018",
          "2019",
          "2020",
          "2013",
          "2014",
          "2015",
          "2016",
          "2017",
          "2018",
          "2019",
          "2020"
         ],
         "legendgroup": "",
         "marker": {
          "color": "#636efa",
          "symbol": "circle"
         },
         "mode": "markers",
         "name": "",
         "orientation": "v",
         "showlegend": false,
         "type": "scatter",
         "x": [
          "Energy efficiency",
          "Energy efficiency",
          "Energy efficiency",
          "Energy efficiency",
          "Energy efficiency",
          "Energy efficiency",
          "Energy efficiency",
          "Energy efficiency",
          "Fossil fuels",
          "Fossil fuels",
          "Fossil fuels",
          "Fossil fuels",
          "Fossil fuels",
          "Fossil fuels",
          "Fossil fuels",
          "Fossil fuels",
          "Renewables",
          "Renewables",
          "Renewables",
          "Renewables",
          "Renewables",
          "Renewables",
          "Renewables",
          "Renewables",
          "Nuclear",
          "Nuclear",
          "Nuclear",
          "Nuclear",
          "Nuclear",
          "Nuclear",
          "Nuclear",
          "Nuclear",
          "Hydrogen and fuel cells",
          "Hydrogen and fuel cells",
          "Hydrogen and fuel cells",
          "Hydrogen and fuel cells",
          "Hydrogen and fuel cells",
          "Hydrogen and fuel cells",
          "Hydrogen and fuel cells",
          "Hydrogen and fuel cells",
          "Other power and storage technologies",
          "Other power and storage technologies",
          "Other power and storage technologies",
          "Other power and storage technologies",
          "Other power and storage technologies",
          "Other power and storage technologies",
          "Other power and storage technologies",
          "Other power and storage technologies",
          "Other cross-cutting technologies/research",
          "Other cross-cutting technologies/research",
          "Other cross-cutting technologies/research",
          "Other cross-cutting technologies/research",
          "Other cross-cutting technologies/research",
          "Other cross-cutting technologies/research",
          "Other cross-cutting technologies/research",
          "Other cross-cutting technologies/research",
          "Unallocated",
          "Unallocated",
          "Unallocated",
          "Unallocated",
          "Unallocated",
          "Unallocated",
          "Unallocated",
          "Unallocated"
         ],
         "xaxis": "x2",
         "y": [
          207.893,
          262.851,
          900.388,
          951.638,
          961.54,
          978.919,
          0,
          0,
          34.4,
          23.598,
          166.113,
          122.407,
          123.68,
          125.916,
          0,
          0,
          48.591,
          82.825,
          98.236,
          71.785,
          72.532,
          73.843,
          0,
          0,
          3.286,
          1.476,
          2.998,
          2.784,
          2.812,
          2.863,
          0,
          0,
          10.836,
          9.385,
          8.246,
          12.72,
          12.852,
          13.084,
          0,
          0,
          30.573,
          32.276,
          50.702,
          70.038,
          70.765,
          72.046,
          0,
          0,
          37.446,
          33.768,
          22.039,
          49.436,
          49.951,
          50.853,
          0,
          0,
          0,
          0,
          0,
          0,
          0,
          0,
          0,
          0
         ],
         "yaxis": "y2"
        }
       ],
       "layout": {
        "annotations": [
         {
          "font": {},
          "showarrow": false,
          "text": "Department=Italy Public RD",
          "x": 0.245,
          "xanchor": "center",
          "xref": "paper",
          "y": 1,
          "yanchor": "bottom",
          "yref": "paper"
         },
         {
          "font": {},
          "showarrow": false,
          "text": "Department=Italy Private RD",
          "x": 0.755,
          "xanchor": "center",
          "xref": "paper",
          "y": 1,
          "yanchor": "bottom",
          "yref": "paper"
         }
        ],
        "legend": {
         "tracegroupgap": 0
        },
        "margin": {
         "t": 60
        },
        "template": {
         "data": {
          "bar": [
           {
            "error_x": {
             "color": "#2a3f5f"
            },
            "error_y": {
             "color": "#2a3f5f"
            },
            "marker": {
             "line": {
              "color": "#E5ECF6",
              "width": 0.5
             },
             "pattern": {
              "fillmode": "overlay",
              "size": 10,
              "solidity": 0.2
             }
            },
            "type": "bar"
           }
          ],
          "barpolar": [
           {
            "marker": {
             "line": {
              "color": "#E5ECF6",
              "width": 0.5
             },
             "pattern": {
              "fillmode": "overlay",
              "size": 10,
              "solidity": 0.2
             }
            },
            "type": "barpolar"
           }
          ],
          "carpet": [
           {
            "aaxis": {
             "endlinecolor": "#2a3f5f",
             "gridcolor": "white",
             "linecolor": "white",
             "minorgridcolor": "white",
             "startlinecolor": "#2a3f5f"
            },
            "baxis": {
             "endlinecolor": "#2a3f5f",
             "gridcolor": "white",
             "linecolor": "white",
             "minorgridcolor": "white",
             "startlinecolor": "#2a3f5f"
            },
            "type": "carpet"
           }
          ],
          "choropleth": [
           {
            "colorbar": {
             "outlinewidth": 0,
             "ticks": ""
            },
            "type": "choropleth"
           }
          ],
          "contour": [
           {
            "colorbar": {
             "outlinewidth": 0,
             "ticks": ""
            },
            "colorscale": [
             [
              0,
              "#0d0887"
             ],
             [
              0.1111111111111111,
              "#46039f"
             ],
             [
              0.2222222222222222,
              "#7201a8"
             ],
             [
              0.3333333333333333,
              "#9c179e"
             ],
             [
              0.4444444444444444,
              "#bd3786"
             ],
             [
              0.5555555555555556,
              "#d8576b"
             ],
             [
              0.6666666666666666,
              "#ed7953"
             ],
             [
              0.7777777777777778,
              "#fb9f3a"
             ],
             [
              0.8888888888888888,
              "#fdca26"
             ],
             [
              1,
              "#f0f921"
             ]
            ],
            "type": "contour"
           }
          ],
          "contourcarpet": [
           {
            "colorbar": {
             "outlinewidth": 0,
             "ticks": ""
            },
            "type": "contourcarpet"
           }
          ],
          "heatmap": [
           {
            "colorbar": {
             "outlinewidth": 0,
             "ticks": ""
            },
            "colorscale": [
             [
              0,
              "#0d0887"
             ],
             [
              0.1111111111111111,
              "#46039f"
             ],
             [
              0.2222222222222222,
              "#7201a8"
             ],
             [
              0.3333333333333333,
              "#9c179e"
             ],
             [
              0.4444444444444444,
              "#bd3786"
             ],
             [
              0.5555555555555556,
              "#d8576b"
             ],
             [
              0.6666666666666666,
              "#ed7953"
             ],
             [
              0.7777777777777778,
              "#fb9f3a"
             ],
             [
              0.8888888888888888,
              "#fdca26"
             ],
             [
              1,
              "#f0f921"
             ]
            ],
            "type": "heatmap"
           }
          ],
          "heatmapgl": [
           {
            "colorbar": {
             "outlinewidth": 0,
             "ticks": ""
            },
            "colorscale": [
             [
              0,
              "#0d0887"
             ],
             [
              0.1111111111111111,
              "#46039f"
             ],
             [
              0.2222222222222222,
              "#7201a8"
             ],
             [
              0.3333333333333333,
              "#9c179e"
             ],
             [
              0.4444444444444444,
              "#bd3786"
             ],
             [
              0.5555555555555556,
              "#d8576b"
             ],
             [
              0.6666666666666666,
              "#ed7953"
             ],
             [
              0.7777777777777778,
              "#fb9f3a"
             ],
             [
              0.8888888888888888,
              "#fdca26"
             ],
             [
              1,
              "#f0f921"
             ]
            ],
            "type": "heatmapgl"
           }
          ],
          "histogram": [
           {
            "marker": {
             "pattern": {
              "fillmode": "overlay",
              "size": 10,
              "solidity": 0.2
             }
            },
            "type": "histogram"
           }
          ],
          "histogram2d": [
           {
            "colorbar": {
             "outlinewidth": 0,
             "ticks": ""
            },
            "colorscale": [
             [
              0,
              "#0d0887"
             ],
             [
              0.1111111111111111,
              "#46039f"
             ],
             [
              0.2222222222222222,
              "#7201a8"
             ],
             [
              0.3333333333333333,
              "#9c179e"
             ],
             [
              0.4444444444444444,
              "#bd3786"
             ],
             [
              0.5555555555555556,
              "#d8576b"
             ],
             [
              0.6666666666666666,
              "#ed7953"
             ],
             [
              0.7777777777777778,
              "#fb9f3a"
             ],
             [
              0.8888888888888888,
              "#fdca26"
             ],
             [
              1,
              "#f0f921"
             ]
            ],
            "type": "histogram2d"
           }
          ],
          "histogram2dcontour": [
           {
            "colorbar": {
             "outlinewidth": 0,
             "ticks": ""
            },
            "colorscale": [
             [
              0,
              "#0d0887"
             ],
             [
              0.1111111111111111,
              "#46039f"
             ],
             [
              0.2222222222222222,
              "#7201a8"
             ],
             [
              0.3333333333333333,
              "#9c179e"
             ],
             [
              0.4444444444444444,
              "#bd3786"
             ],
             [
              0.5555555555555556,
              "#d8576b"
             ],
             [
              0.6666666666666666,
              "#ed7953"
             ],
             [
              0.7777777777777778,
              "#fb9f3a"
             ],
             [
              0.8888888888888888,
              "#fdca26"
             ],
             [
              1,
              "#f0f921"
             ]
            ],
            "type": "histogram2dcontour"
           }
          ],
          "mesh3d": [
           {
            "colorbar": {
             "outlinewidth": 0,
             "ticks": ""
            },
            "type": "mesh3d"
           }
          ],
          "parcoords": [
           {
            "line": {
             "colorbar": {
              "outlinewidth": 0,
              "ticks": ""
             }
            },
            "type": "parcoords"
           }
          ],
          "pie": [
           {
            "automargin": true,
            "type": "pie"
           }
          ],
          "scatter": [
           {
            "marker": {
             "colorbar": {
              "outlinewidth": 0,
              "ticks": ""
             }
            },
            "type": "scatter"
           }
          ],
          "scatter3d": [
           {
            "line": {
             "colorbar": {
              "outlinewidth": 0,
              "ticks": ""
             }
            },
            "marker": {
             "colorbar": {
              "outlinewidth": 0,
              "ticks": ""
             }
            },
            "type": "scatter3d"
           }
          ],
          "scattercarpet": [
           {
            "marker": {
             "colorbar": {
              "outlinewidth": 0,
              "ticks": ""
             }
            },
            "type": "scattercarpet"
           }
          ],
          "scattergeo": [
           {
            "marker": {
             "colorbar": {
              "outlinewidth": 0,
              "ticks": ""
             }
            },
            "type": "scattergeo"
           }
          ],
          "scattergl": [
           {
            "marker": {
             "colorbar": {
              "outlinewidth": 0,
              "ticks": ""
             }
            },
            "type": "scattergl"
           }
          ],
          "scattermapbox": [
           {
            "marker": {
             "colorbar": {
              "outlinewidth": 0,
              "ticks": ""
             }
            },
            "type": "scattermapbox"
           }
          ],
          "scatterpolar": [
           {
            "marker": {
             "colorbar": {
              "outlinewidth": 0,
              "ticks": ""
             }
            },
            "type": "scatterpolar"
           }
          ],
          "scatterpolargl": [
           {
            "marker": {
             "colorbar": {
              "outlinewidth": 0,
              "ticks": ""
             }
            },
            "type": "scatterpolargl"
           }
          ],
          "scatterternary": [
           {
            "marker": {
             "colorbar": {
              "outlinewidth": 0,
              "ticks": ""
             }
            },
            "type": "scatterternary"
           }
          ],
          "surface": [
           {
            "colorbar": {
             "outlinewidth": 0,
             "ticks": ""
            },
            "colorscale": [
             [
              0,
              "#0d0887"
             ],
             [
              0.1111111111111111,
              "#46039f"
             ],
             [
              0.2222222222222222,
              "#7201a8"
             ],
             [
              0.3333333333333333,
              "#9c179e"
             ],
             [
              0.4444444444444444,
              "#bd3786"
             ],
             [
              0.5555555555555556,
              "#d8576b"
             ],
             [
              0.6666666666666666,
              "#ed7953"
             ],
             [
              0.7777777777777778,
              "#fb9f3a"
             ],
             [
              0.8888888888888888,
              "#fdca26"
             ],
             [
              1,
              "#f0f921"
             ]
            ],
            "type": "surface"
           }
          ],
          "table": [
           {
            "cells": {
             "fill": {
              "color": "#EBF0F8"
             },
             "line": {
              "color": "white"
             }
            },
            "header": {
             "fill": {
              "color": "#C8D4E3"
             },
             "line": {
              "color": "white"
             }
            },
            "type": "table"
           }
          ]
         },
         "layout": {
          "annotationdefaults": {
           "arrowcolor": "#2a3f5f",
           "arrowhead": 0,
           "arrowwidth": 1
          },
          "autotypenumbers": "strict",
          "coloraxis": {
           "colorbar": {
            "outlinewidth": 0,
            "ticks": ""
           }
          },
          "colorscale": {
           "diverging": [
            [
             0,
             "#8e0152"
            ],
            [
             0.1,
             "#c51b7d"
            ],
            [
             0.2,
             "#de77ae"
            ],
            [
             0.3,
             "#f1b6da"
            ],
            [
             0.4,
             "#fde0ef"
            ],
            [
             0.5,
             "#f7f7f7"
            ],
            [
             0.6,
             "#e6f5d0"
            ],
            [
             0.7,
             "#b8e186"
            ],
            [
             0.8,
             "#7fbc41"
            ],
            [
             0.9,
             "#4d9221"
            ],
            [
             1,
             "#276419"
            ]
           ],
           "sequential": [
            [
             0,
             "#0d0887"
            ],
            [
             0.1111111111111111,
             "#46039f"
            ],
            [
             0.2222222222222222,
             "#7201a8"
            ],
            [
             0.3333333333333333,
             "#9c179e"
            ],
            [
             0.4444444444444444,
             "#bd3786"
            ],
            [
             0.5555555555555556,
             "#d8576b"
            ],
            [
             0.6666666666666666,
             "#ed7953"
            ],
            [
             0.7777777777777778,
             "#fb9f3a"
            ],
            [
             0.8888888888888888,
             "#fdca26"
            ],
            [
             1,
             "#f0f921"
            ]
           ],
           "sequentialminus": [
            [
             0,
             "#0d0887"
            ],
            [
             0.1111111111111111,
             "#46039f"
            ],
            [
             0.2222222222222222,
             "#7201a8"
            ],
            [
             0.3333333333333333,
             "#9c179e"
            ],
            [
             0.4444444444444444,
             "#bd3786"
            ],
            [
             0.5555555555555556,
             "#d8576b"
            ],
            [
             0.6666666666666666,
             "#ed7953"
            ],
            [
             0.7777777777777778,
             "#fb9f3a"
            ],
            [
             0.8888888888888888,
             "#fdca26"
            ],
            [
             1,
             "#f0f921"
            ]
           ]
          },
          "colorway": [
           "#636efa",
           "#EF553B",
           "#00cc96",
           "#ab63fa",
           "#FFA15A",
           "#19d3f3",
           "#FF6692",
           "#B6E880",
           "#FF97FF",
           "#FECB52"
          ],
          "font": {
           "color": "#2a3f5f"
          },
          "geo": {
           "bgcolor": "white",
           "lakecolor": "white",
           "landcolor": "#E5ECF6",
           "showlakes": true,
           "showland": true,
           "subunitcolor": "white"
          },
          "hoverlabel": {
           "align": "left"
          },
          "hovermode": "closest",
          "mapbox": {
           "style": "light"
          },
          "paper_bgcolor": "white",
          "plot_bgcolor": "#E5ECF6",
          "polar": {
           "angularaxis": {
            "gridcolor": "white",
            "linecolor": "white",
            "ticks": ""
           },
           "bgcolor": "#E5ECF6",
           "radialaxis": {
            "gridcolor": "white",
            "linecolor": "white",
            "ticks": ""
           }
          },
          "scene": {
           "xaxis": {
            "backgroundcolor": "#E5ECF6",
            "gridcolor": "white",
            "gridwidth": 2,
            "linecolor": "white",
            "showbackground": true,
            "ticks": "",
            "zerolinecolor": "white"
           },
           "yaxis": {
            "backgroundcolor": "#E5ECF6",
            "gridcolor": "white",
            "gridwidth": 2,
            "linecolor": "white",
            "showbackground": true,
            "ticks": "",
            "zerolinecolor": "white"
           },
           "zaxis": {
            "backgroundcolor": "#E5ECF6",
            "gridcolor": "white",
            "gridwidth": 2,
            "linecolor": "white",
            "showbackground": true,
            "ticks": "",
            "zerolinecolor": "white"
           }
          },
          "shapedefaults": {
           "line": {
            "color": "#2a3f5f"
           }
          },
          "ternary": {
           "aaxis": {
            "gridcolor": "white",
            "linecolor": "white",
            "ticks": ""
           },
           "baxis": {
            "gridcolor": "white",
            "linecolor": "white",
            "ticks": ""
           },
           "bgcolor": "#E5ECF6",
           "caxis": {
            "gridcolor": "white",
            "linecolor": "white",
            "ticks": ""
           }
          },
          "title": {
           "x": 0.05
          },
          "xaxis": {
           "automargin": true,
           "gridcolor": "white",
           "linecolor": "white",
           "ticks": "",
           "title": {
            "standoff": 15
           },
           "zerolinecolor": "white",
           "zerolinewidth": 2
          },
          "yaxis": {
           "automargin": true,
           "gridcolor": "white",
           "linecolor": "white",
           "ticks": "",
           "title": {
            "standoff": 15
           },
           "zerolinecolor": "white",
           "zerolinewidth": 2
          }
         }
        },
        "width": 900,
        "xaxis": {
         "anchor": "y",
         "domain": [
          0,
          0.49
         ],
         "title": {
          "text": "Sectors"
         }
        },
        "xaxis2": {
         "anchor": "y2",
         "domain": [
          0.51,
          1
         ],
         "matches": "x",
         "title": {
          "text": "Sectors"
         }
        },
        "yaxis": {
         "anchor": "x",
         "domain": [
          0,
          1
         ],
         "title": {
          "text": "Amount"
         }
        },
        "yaxis2": {
         "anchor": "x2",
         "domain": [
          0,
          1
         ],
         "matches": "y",
         "showticklabels": false
        }
       }
      },
      "text/html": [
       "<div>                            <div id=\"75c62181-883c-451d-908f-c72c008614c9\" class=\"plotly-graph-div\" style=\"height:525px; width:900px;\"></div>            <script type=\"text/javascript\">                require([\"plotly\"], function(Plotly) {                    window.PLOTLYENV=window.PLOTLYENV || {};                                    if (document.getElementById(\"75c62181-883c-451d-908f-c72c008614c9\")) {                    Plotly.newPlot(                        \"75c62181-883c-451d-908f-c72c008614c9\",                        [{\"hovertemplate\":\"<b>%{hovertext}</b><br><br>Department=Italy Public RD<br>Sectors=%{x}<br>Amount=%{y}<extra></extra>\",\"hovertext\":[\"2013\",\"2014\",\"2015\",\"2016\",\"2017\",\"2018\",\"2019\",\"2020\",\"2013\",\"2014\",\"2015\",\"2016\",\"2017\",\"2018\",\"2019\",\"2020\",\"2013\",\"2014\",\"2015\",\"2016\",\"2017\",\"2018\",\"2019\",\"2020\",\"2013\",\"2014\",\"2015\",\"2016\",\"2017\",\"2018\",\"2019\",\"2020\",\"2013\",\"2014\",\"2015\",\"2016\",\"2017\",\"2018\",\"2019\",\"2020\",\"2013\",\"2014\",\"2015\",\"2016\",\"2017\",\"2018\",\"2019\",\"2020\",\"2013\",\"2014\",\"2015\",\"2016\",\"2017\",\"2018\",\"2019\",\"2020\",\"2013\",\"2014\",\"2015\",\"2016\",\"2017\",\"2018\",\"2019\",\"2020\"],\"legendgroup\":\"\",\"marker\":{\"color\":\"#636efa\",\"symbol\":\"circle\"},\"mode\":\"markers\",\"name\":\"\",\"orientation\":\"v\",\"showlegend\":false,\"type\":\"scatter\",\"x\":[\"Energy efficiency\",\"Energy efficiency\",\"Energy efficiency\",\"Energy efficiency\",\"Energy efficiency\",\"Energy efficiency\",\"Energy efficiency\",\"Energy efficiency\",\"Fossil fuels\",\"Fossil fuels\",\"Fossil fuels\",\"Fossil fuels\",\"Fossil fuels\",\"Fossil fuels\",\"Fossil fuels\",\"Fossil fuels\",\"Renewables\",\"Renewables\",\"Renewables\",\"Renewables\",\"Renewables\",\"Renewables\",\"Renewables\",\"Renewables\",\"Nuclear\",\"Nuclear\",\"Nuclear\",\"Nuclear\",\"Nuclear\",\"Nuclear\",\"Nuclear\",\"Nuclear\",\"Hydrogen and fuel cells\",\"Hydrogen and fuel cells\",\"Hydrogen and fuel cells\",\"Hydrogen and fuel cells\",\"Hydrogen and fuel cells\",\"Hydrogen and fuel cells\",\"Hydrogen and fuel cells\",\"Hydrogen and fuel cells\",\"Other power and storage technologies\",\"Other power and storage technologies\",\"Other power and storage technologies\",\"Other power and storage technologies\",\"Other power and storage technologies\",\"Other power and storage technologies\",\"Other power and storage technologies\",\"Other power and storage technologies\",\"Other cross-cutting technologies/research\",\"Other cross-cutting technologies/research\",\"Other cross-cutting technologies/research\",\"Other cross-cutting technologies/research\",\"Other cross-cutting technologies/research\",\"Other cross-cutting technologies/research\",\"Other cross-cutting technologies/research\",\"Other cross-cutting technologies/research\",\"Unallocated\",\"Unallocated\",\"Unallocated\",\"Unallocated\",\"Unallocated\",\"Unallocated\",\"Unallocated\",\"Unallocated\"],\"xaxis\":\"x\",\"y\":[89.002,88.016,79.438,77.424,78.213,81.092,0.0,0.0,130.278,115.687,100.468,102.095,103.153,105.452,0.0,0.0,138.702,109.536,93.261,98.158,99.161,102.673,0.0,0.0,117.533,94.565,92.18,102.819,103.862,108.18,0.0,0.0,15.47,11.77,21.879,11.298,11.413,11.903,0.0,0.0,100.95,195.864,119.644,60.483,61.107,62.74,0.0,0.0,52.413,56.68,75.057,51.085,51.606,53.634,0.0,0.0,0.0,0.0,0.0,0.0,0.0,0.0,0.0,0.0],\"yaxis\":\"y\"},{\"hovertemplate\":\"<b>%{hovertext}</b><br><br>Department=Italy Private RD<br>Sectors=%{x}<br>Amount=%{y}<extra></extra>\",\"hovertext\":[\"2013\",\"2014\",\"2015\",\"2016\",\"2017\",\"2018\",\"2019\",\"2020\",\"2013\",\"2014\",\"2015\",\"2016\",\"2017\",\"2018\",\"2019\",\"2020\",\"2013\",\"2014\",\"2015\",\"2016\",\"2017\",\"2018\",\"2019\",\"2020\",\"2013\",\"2014\",\"2015\",\"2016\",\"2017\",\"2018\",\"2019\",\"2020\",\"2013\",\"2014\",\"2015\",\"2016\",\"2017\",\"2018\",\"2019\",\"2020\",\"2013\",\"2014\",\"2015\",\"2016\",\"2017\",\"2018\",\"2019\",\"2020\",\"2013\",\"2014\",\"2015\",\"2016\",\"2017\",\"2018\",\"2019\",\"2020\",\"2013\",\"2014\",\"2015\",\"2016\",\"2017\",\"2018\",\"2019\",\"2020\"],\"legendgroup\":\"\",\"marker\":{\"color\":\"#636efa\",\"symbol\":\"circle\"},\"mode\":\"markers\",\"name\":\"\",\"orientation\":\"v\",\"showlegend\":false,\"type\":\"scatter\",\"x\":[\"Energy efficiency\",\"Energy efficiency\",\"Energy efficiency\",\"Energy efficiency\",\"Energy efficiency\",\"Energy efficiency\",\"Energy efficiency\",\"Energy efficiency\",\"Fossil fuels\",\"Fossil fuels\",\"Fossil fuels\",\"Fossil fuels\",\"Fossil fuels\",\"Fossil fuels\",\"Fossil fuels\",\"Fossil fuels\",\"Renewables\",\"Renewables\",\"Renewables\",\"Renewables\",\"Renewables\",\"Renewables\",\"Renewables\",\"Renewables\",\"Nuclear\",\"Nuclear\",\"Nuclear\",\"Nuclear\",\"Nuclear\",\"Nuclear\",\"Nuclear\",\"Nuclear\",\"Hydrogen and fuel cells\",\"Hydrogen and fuel cells\",\"Hydrogen and fuel cells\",\"Hydrogen and fuel cells\",\"Hydrogen and fuel cells\",\"Hydrogen and fuel cells\",\"Hydrogen and fuel cells\",\"Hydrogen and fuel cells\",\"Other power and storage technologies\",\"Other power and storage technologies\",\"Other power and storage technologies\",\"Other power and storage technologies\",\"Other power and storage technologies\",\"Other power and storage technologies\",\"Other power and storage technologies\",\"Other power and storage technologies\",\"Other cross-cutting technologies/research\",\"Other cross-cutting technologies/research\",\"Other cross-cutting technologies/research\",\"Other cross-cutting technologies/research\",\"Other cross-cutting technologies/research\",\"Other cross-cutting technologies/research\",\"Other cross-cutting technologies/research\",\"Other cross-cutting technologies/research\",\"Unallocated\",\"Unallocated\",\"Unallocated\",\"Unallocated\",\"Unallocated\",\"Unallocated\",\"Unallocated\",\"Unallocated\"],\"xaxis\":\"x2\",\"y\":[207.893,262.851,900.388,951.638,961.54,978.919,0.0,0.0,34.4,23.598,166.113,122.407,123.68,125.916,0.0,0.0,48.591,82.825,98.236,71.785,72.532,73.843,0.0,0.0,3.286,1.476,2.998,2.784,2.812,2.863,0.0,0.0,10.836,9.385,8.246,12.72,12.852,13.084,0.0,0.0,30.573,32.276,50.702,70.038,70.765,72.046,0.0,0.0,37.446,33.768,22.039,49.436,49.951,50.853,0.0,0.0,0.0,0.0,0.0,0.0,0.0,0.0,0.0,0.0],\"yaxis\":\"y2\"}],                        {\"annotations\":[{\"font\":{},\"showarrow\":false,\"text\":\"Department=Italy Public RD\",\"x\":0.245,\"xanchor\":\"center\",\"xref\":\"paper\",\"y\":1.0,\"yanchor\":\"bottom\",\"yref\":\"paper\"},{\"font\":{},\"showarrow\":false,\"text\":\"Department=Italy Private RD\",\"x\":0.755,\"xanchor\":\"center\",\"xref\":\"paper\",\"y\":1.0,\"yanchor\":\"bottom\",\"yref\":\"paper\"}],\"legend\":{\"tracegroupgap\":0},\"margin\":{\"t\":60},\"template\":{\"data\":{\"bar\":[{\"error_x\":{\"color\":\"#2a3f5f\"},\"error_y\":{\"color\":\"#2a3f5f\"},\"marker\":{\"line\":{\"color\":\"#E5ECF6\",\"width\":0.5},\"pattern\":{\"fillmode\":\"overlay\",\"size\":10,\"solidity\":0.2}},\"type\":\"bar\"}],\"barpolar\":[{\"marker\":{\"line\":{\"color\":\"#E5ECF6\",\"width\":0.5},\"pattern\":{\"fillmode\":\"overlay\",\"size\":10,\"solidity\":0.2}},\"type\":\"barpolar\"}],\"carpet\":[{\"aaxis\":{\"endlinecolor\":\"#2a3f5f\",\"gridcolor\":\"white\",\"linecolor\":\"white\",\"minorgridcolor\":\"white\",\"startlinecolor\":\"#2a3f5f\"},\"baxis\":{\"endlinecolor\":\"#2a3f5f\",\"gridcolor\":\"white\",\"linecolor\":\"white\",\"minorgridcolor\":\"white\",\"startlinecolor\":\"#2a3f5f\"},\"type\":\"carpet\"}],\"choropleth\":[{\"colorbar\":{\"outlinewidth\":0,\"ticks\":\"\"},\"type\":\"choropleth\"}],\"contour\":[{\"colorbar\":{\"outlinewidth\":0,\"ticks\":\"\"},\"colorscale\":[[0.0,\"#0d0887\"],[0.1111111111111111,\"#46039f\"],[0.2222222222222222,\"#7201a8\"],[0.3333333333333333,\"#9c179e\"],[0.4444444444444444,\"#bd3786\"],[0.5555555555555556,\"#d8576b\"],[0.6666666666666666,\"#ed7953\"],[0.7777777777777778,\"#fb9f3a\"],[0.8888888888888888,\"#fdca26\"],[1.0,\"#f0f921\"]],\"type\":\"contour\"}],\"contourcarpet\":[{\"colorbar\":{\"outlinewidth\":0,\"ticks\":\"\"},\"type\":\"contourcarpet\"}],\"heatmap\":[{\"colorbar\":{\"outlinewidth\":0,\"ticks\":\"\"},\"colorscale\":[[0.0,\"#0d0887\"],[0.1111111111111111,\"#46039f\"],[0.2222222222222222,\"#7201a8\"],[0.3333333333333333,\"#9c179e\"],[0.4444444444444444,\"#bd3786\"],[0.5555555555555556,\"#d8576b\"],[0.6666666666666666,\"#ed7953\"],[0.7777777777777778,\"#fb9f3a\"],[0.8888888888888888,\"#fdca26\"],[1.0,\"#f0f921\"]],\"type\":\"heatmap\"}],\"heatmapgl\":[{\"colorbar\":{\"outlinewidth\":0,\"ticks\":\"\"},\"colorscale\":[[0.0,\"#0d0887\"],[0.1111111111111111,\"#46039f\"],[0.2222222222222222,\"#7201a8\"],[0.3333333333333333,\"#9c179e\"],[0.4444444444444444,\"#bd3786\"],[0.5555555555555556,\"#d8576b\"],[0.6666666666666666,\"#ed7953\"],[0.7777777777777778,\"#fb9f3a\"],[0.8888888888888888,\"#fdca26\"],[1.0,\"#f0f921\"]],\"type\":\"heatmapgl\"}],\"histogram\":[{\"marker\":{\"pattern\":{\"fillmode\":\"overlay\",\"size\":10,\"solidity\":0.2}},\"type\":\"histogram\"}],\"histogram2d\":[{\"colorbar\":{\"outlinewidth\":0,\"ticks\":\"\"},\"colorscale\":[[0.0,\"#0d0887\"],[0.1111111111111111,\"#46039f\"],[0.2222222222222222,\"#7201a8\"],[0.3333333333333333,\"#9c179e\"],[0.4444444444444444,\"#bd3786\"],[0.5555555555555556,\"#d8576b\"],[0.6666666666666666,\"#ed7953\"],[0.7777777777777778,\"#fb9f3a\"],[0.8888888888888888,\"#fdca26\"],[1.0,\"#f0f921\"]],\"type\":\"histogram2d\"}],\"histogram2dcontour\":[{\"colorbar\":{\"outlinewidth\":0,\"ticks\":\"\"},\"colorscale\":[[0.0,\"#0d0887\"],[0.1111111111111111,\"#46039f\"],[0.2222222222222222,\"#7201a8\"],[0.3333333333333333,\"#9c179e\"],[0.4444444444444444,\"#bd3786\"],[0.5555555555555556,\"#d8576b\"],[0.6666666666666666,\"#ed7953\"],[0.7777777777777778,\"#fb9f3a\"],[0.8888888888888888,\"#fdca26\"],[1.0,\"#f0f921\"]],\"type\":\"histogram2dcontour\"}],\"mesh3d\":[{\"colorbar\":{\"outlinewidth\":0,\"ticks\":\"\"},\"type\":\"mesh3d\"}],\"parcoords\":[{\"line\":{\"colorbar\":{\"outlinewidth\":0,\"ticks\":\"\"}},\"type\":\"parcoords\"}],\"pie\":[{\"automargin\":true,\"type\":\"pie\"}],\"scatter\":[{\"marker\":{\"colorbar\":{\"outlinewidth\":0,\"ticks\":\"\"}},\"type\":\"scatter\"}],\"scatter3d\":[{\"line\":{\"colorbar\":{\"outlinewidth\":0,\"ticks\":\"\"}},\"marker\":{\"colorbar\":{\"outlinewidth\":0,\"ticks\":\"\"}},\"type\":\"scatter3d\"}],\"scattercarpet\":[{\"marker\":{\"colorbar\":{\"outlinewidth\":0,\"ticks\":\"\"}},\"type\":\"scattercarpet\"}],\"scattergeo\":[{\"marker\":{\"colorbar\":{\"outlinewidth\":0,\"ticks\":\"\"}},\"type\":\"scattergeo\"}],\"scattergl\":[{\"marker\":{\"colorbar\":{\"outlinewidth\":0,\"ticks\":\"\"}},\"type\":\"scattergl\"}],\"scattermapbox\":[{\"marker\":{\"colorbar\":{\"outlinewidth\":0,\"ticks\":\"\"}},\"type\":\"scattermapbox\"}],\"scatterpolar\":[{\"marker\":{\"colorbar\":{\"outlinewidth\":0,\"ticks\":\"\"}},\"type\":\"scatterpolar\"}],\"scatterpolargl\":[{\"marker\":{\"colorbar\":{\"outlinewidth\":0,\"ticks\":\"\"}},\"type\":\"scatterpolargl\"}],\"scatterternary\":[{\"marker\":{\"colorbar\":{\"outlinewidth\":0,\"ticks\":\"\"}},\"type\":\"scatterternary\"}],\"surface\":[{\"colorbar\":{\"outlinewidth\":0,\"ticks\":\"\"},\"colorscale\":[[0.0,\"#0d0887\"],[0.1111111111111111,\"#46039f\"],[0.2222222222222222,\"#7201a8\"],[0.3333333333333333,\"#9c179e\"],[0.4444444444444444,\"#bd3786\"],[0.5555555555555556,\"#d8576b\"],[0.6666666666666666,\"#ed7953\"],[0.7777777777777778,\"#fb9f3a\"],[0.8888888888888888,\"#fdca26\"],[1.0,\"#f0f921\"]],\"type\":\"surface\"}],\"table\":[{\"cells\":{\"fill\":{\"color\":\"#EBF0F8\"},\"line\":{\"color\":\"white\"}},\"header\":{\"fill\":{\"color\":\"#C8D4E3\"},\"line\":{\"color\":\"white\"}},\"type\":\"table\"}]},\"layout\":{\"annotationdefaults\":{\"arrowcolor\":\"#2a3f5f\",\"arrowhead\":0,\"arrowwidth\":1},\"autotypenumbers\":\"strict\",\"coloraxis\":{\"colorbar\":{\"outlinewidth\":0,\"ticks\":\"\"}},\"colorscale\":{\"diverging\":[[0,\"#8e0152\"],[0.1,\"#c51b7d\"],[0.2,\"#de77ae\"],[0.3,\"#f1b6da\"],[0.4,\"#fde0ef\"],[0.5,\"#f7f7f7\"],[0.6,\"#e6f5d0\"],[0.7,\"#b8e186\"],[0.8,\"#7fbc41\"],[0.9,\"#4d9221\"],[1,\"#276419\"]],\"sequential\":[[0.0,\"#0d0887\"],[0.1111111111111111,\"#46039f\"],[0.2222222222222222,\"#7201a8\"],[0.3333333333333333,\"#9c179e\"],[0.4444444444444444,\"#bd3786\"],[0.5555555555555556,\"#d8576b\"],[0.6666666666666666,\"#ed7953\"],[0.7777777777777778,\"#fb9f3a\"],[0.8888888888888888,\"#fdca26\"],[1.0,\"#f0f921\"]],\"sequentialminus\":[[0.0,\"#0d0887\"],[0.1111111111111111,\"#46039f\"],[0.2222222222222222,\"#7201a8\"],[0.3333333333333333,\"#9c179e\"],[0.4444444444444444,\"#bd3786\"],[0.5555555555555556,\"#d8576b\"],[0.6666666666666666,\"#ed7953\"],[0.7777777777777778,\"#fb9f3a\"],[0.8888888888888888,\"#fdca26\"],[1.0,\"#f0f921\"]]},\"colorway\":[\"#636efa\",\"#EF553B\",\"#00cc96\",\"#ab63fa\",\"#FFA15A\",\"#19d3f3\",\"#FF6692\",\"#B6E880\",\"#FF97FF\",\"#FECB52\"],\"font\":{\"color\":\"#2a3f5f\"},\"geo\":{\"bgcolor\":\"white\",\"lakecolor\":\"white\",\"landcolor\":\"#E5ECF6\",\"showlakes\":true,\"showland\":true,\"subunitcolor\":\"white\"},\"hoverlabel\":{\"align\":\"left\"},\"hovermode\":\"closest\",\"mapbox\":{\"style\":\"light\"},\"paper_bgcolor\":\"white\",\"plot_bgcolor\":\"#E5ECF6\",\"polar\":{\"angularaxis\":{\"gridcolor\":\"white\",\"linecolor\":\"white\",\"ticks\":\"\"},\"bgcolor\":\"#E5ECF6\",\"radialaxis\":{\"gridcolor\":\"white\",\"linecolor\":\"white\",\"ticks\":\"\"}},\"scene\":{\"xaxis\":{\"backgroundcolor\":\"#E5ECF6\",\"gridcolor\":\"white\",\"gridwidth\":2,\"linecolor\":\"white\",\"showbackground\":true,\"ticks\":\"\",\"zerolinecolor\":\"white\"},\"yaxis\":{\"backgroundcolor\":\"#E5ECF6\",\"gridcolor\":\"white\",\"gridwidth\":2,\"linecolor\":\"white\",\"showbackground\":true,\"ticks\":\"\",\"zerolinecolor\":\"white\"},\"zaxis\":{\"backgroundcolor\":\"#E5ECF6\",\"gridcolor\":\"white\",\"gridwidth\":2,\"linecolor\":\"white\",\"showbackground\":true,\"ticks\":\"\",\"zerolinecolor\":\"white\"}},\"shapedefaults\":{\"line\":{\"color\":\"#2a3f5f\"}},\"ternary\":{\"aaxis\":{\"gridcolor\":\"white\",\"linecolor\":\"white\",\"ticks\":\"\"},\"baxis\":{\"gridcolor\":\"white\",\"linecolor\":\"white\",\"ticks\":\"\"},\"bgcolor\":\"#E5ECF6\",\"caxis\":{\"gridcolor\":\"white\",\"linecolor\":\"white\",\"ticks\":\"\"}},\"title\":{\"x\":0.05},\"xaxis\":{\"automargin\":true,\"gridcolor\":\"white\",\"linecolor\":\"white\",\"ticks\":\"\",\"title\":{\"standoff\":15},\"zerolinecolor\":\"white\",\"zerolinewidth\":2},\"yaxis\":{\"automargin\":true,\"gridcolor\":\"white\",\"linecolor\":\"white\",\"ticks\":\"\",\"title\":{\"standoff\":15},\"zerolinecolor\":\"white\",\"zerolinewidth\":2}}},\"width\":900,\"xaxis\":{\"anchor\":\"y\",\"domain\":[0.0,0.49],\"title\":{\"text\":\"Sectors\"}},\"xaxis2\":{\"anchor\":\"y2\",\"domain\":[0.51,1.0],\"matches\":\"x\",\"title\":{\"text\":\"Sectors\"}},\"yaxis\":{\"anchor\":\"x\",\"domain\":[0.0,1.0],\"title\":{\"text\":\"Amount\"}},\"yaxis2\":{\"anchor\":\"x2\",\"domain\":[0.0,1.0],\"matches\":\"y\",\"showticklabels\":false}},                        {\"responsive\": true}                    ).then(function(){\n",
       "                            \n",
       "var gd = document.getElementById('75c62181-883c-451d-908f-c72c008614c9');\n",
       "var x = new MutationObserver(function (mutations, observer) {{\n",
       "        var display = window.getComputedStyle(gd).display;\n",
       "        if (!display || display === 'none') {{\n",
       "            console.log([gd, 'removed!']);\n",
       "            Plotly.purge(gd);\n",
       "            observer.disconnect();\n",
       "        }}\n",
       "}});\n",
       "\n",
       "// Listen for the removal of the full notebook cells\n",
       "var notebookContainer = gd.closest('#notebook-container');\n",
       "if (notebookContainer) {{\n",
       "    x.observe(notebookContainer, {childList: true});\n",
       "}}\n",
       "\n",
       "// Listen for the clearing of the current output cell\n",
       "var outputEl = gd.closest('.output');\n",
       "if (outputEl) {{\n",
       "    x.observe(outputEl, {childList: true});\n",
       "}}\n",
       "\n",
       "                        })                };                });            </script>        </div>"
      ]
     },
     "metadata": {},
     "output_type": "display_data"
    }
   ],
   "source": [
    "it_total_budget = pd.merge(it_public, it_private, how='outer', on=\n",
    "                    ['Country', 'Currency_type','Sectors', 'Year', 'Amount'])\n",
    "plot = it_total_budget[it_total_budget['Sectors'] != 'Total Budget']\n",
    "\n",
    "plot.rename(columns={'Country' : 'Department'}, inplace=True)\n",
    "\n",
    "\n",
    "px.scatter(plot, x='Sectors', y=\"Amount\", facet_col=\"Department\", width=900, hover_name='Year')"
   ]
  },
  {
   "cell_type": "markdown",
   "metadata": {},
   "source": [
    "### Let's get our last dataset to get compare IEA countries by it's spendings done in Energy Technologies according to the country's GDP"
   ]
  },
  {
   "cell_type": "code",
   "execution_count": null,
   "metadata": {},
   "outputs": [],
   "source": []
  }
 ],
 "metadata": {
  "kernelspec": {
   "display_name": "Python 3",
   "language": "python",
   "name": "python3"
  },
  "language_info": {
   "codemirror_mode": {
    "name": "ipython",
    "version": 3
   },
   "file_extension": ".py",
   "mimetype": "text/x-python",
   "name": "python",
   "nbconvert_exporter": "python",
   "pygments_lexer": "ipython3",
   "version": "3.6.8"
  }
 },
 "nbformat": 4,
 "nbformat_minor": 4
}
