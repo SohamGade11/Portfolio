{
 "cells": [
  {
   "cell_type": "markdown",
   "metadata": {},
   "source": [
    "# Data Cleaning and Preparation\n",
    "#### Two of the datasets used in this process are taken from [Our World in Data](https://ourworldindata.org/).\n",
    "The main article in use is [Plastic Pollution](https://ourworldindata.org/plastic-pollution). \n",
    "The focus of this study is to understand the total waste produced by each country in the year 2010, as well as the total waste mismanaged by the countries for the same year.\n",
    "\n",
    "\n",
    "## A visualization of the following data has been created on [Tableau Public](https://public.tableau.com/views/PlasticWaste_16243443280510/Dashboard1?:language=en-GB&:display_count=n&:origin=viz_share_link)"
   ]
  },
  {
   "cell_type": "code",
   "execution_count": 1,
   "metadata": {},
   "outputs": [],
   "source": [
    "import pandas as pd\n",
    "import numpy as np\n",
    "import seaborn as sns\n",
    "import matplotlib.pyplot as plt"
   ]
  },
  {
   "cell_type": "markdown",
   "metadata": {},
   "source": [
    "### Following is a dataset containing plastic waste per person in Kg/day"
   ]
  },
  {
   "cell_type": "code",
   "execution_count": 2,
   "metadata": {},
   "outputs": [],
   "source": [
    "df = pd.read_csv('datasets/per-capita-plastic-waste-vs-gdp-per-capita.csv')"
   ]
  },
  {
   "cell_type": "code",
   "execution_count": 3,
   "metadata": {},
   "outputs": [],
   "source": [
    "df.columns\n",
    "df.rename(columns={'GDP per capita, PPP (constant 2011 international $)': 'GDP per capita in PPP', \n",
    "                   'Total population (Gapminder, HYDE & UN)': 'Total Population',\n",
    "                    'Per capita plastic waste (kg/person/day)': 'Waste per person(kg/day)'}, inplace=True)"
   ]
  },
  {
   "cell_type": "code",
   "execution_count": 4,
   "metadata": {},
   "outputs": [],
   "source": [
    "# removing entities/countries with incomplete/missing data\n",
    "incomplete_data_index = df[(df['Total Population'].isna()) & (df['GDP per capita in PPP'].isna())].index\n",
    "df.drop(incomplete_data_index, inplace=True)"
   ]
  },
  {
   "cell_type": "code",
   "execution_count": 5,
   "metadata": {},
   "outputs": [],
   "source": [
    "# new dataframe that takes in the required data (by year 2010)\n",
    "data = df[df['Year'] == 2010]\n",
    "data = data.drop(columns='Continent')"
   ]
  },
  {
   "cell_type": "code",
   "execution_count": 6,
   "metadata": {},
   "outputs": [],
   "source": [
    "# retrieving continent names (from 2015 data)\n",
    "con_names = df[df['Year'] == 2015]\n",
    "data['Continent'] = con_names['Continent'].values"
   ]
  },
  {
   "cell_type": "code",
   "execution_count": 7,
   "metadata": {},
   "outputs": [],
   "source": [
    "# dropping rows with missing Continent values using index\n",
    "miss_index = data[data['Continent'].isna()].index\n",
    "data.drop(miss_index, inplace=True)"
   ]
  },
  {
   "cell_type": "code",
   "execution_count": 8,
   "metadata": {},
   "outputs": [],
   "source": [
    "# dropping rows with missing per person waste generation values\n",
    "data = data[data['Waste per person(kg/day)'].notna()]\n",
    "\n",
    "waste_gener = data.reset_index().drop('index', axis=1)"
   ]
  },
  {
   "cell_type": "code",
   "execution_count": 9,
   "metadata": {},
   "outputs": [
    {
     "data": {
      "text/html": [
       "<div>\n",
       "<style scoped>\n",
       "    .dataframe tbody tr th:only-of-type {\n",
       "        vertical-align: middle;\n",
       "    }\n",
       "\n",
       "    .dataframe tbody tr th {\n",
       "        vertical-align: top;\n",
       "    }\n",
       "\n",
       "    .dataframe thead th {\n",
       "        text-align: right;\n",
       "    }\n",
       "</style>\n",
       "<table border=\"1\" class=\"dataframe\">\n",
       "  <thead>\n",
       "    <tr style=\"text-align: right;\">\n",
       "      <th></th>\n",
       "      <th>Entity</th>\n",
       "      <th>Code</th>\n",
       "      <th>Year</th>\n",
       "      <th>Waste per person(kg/day)</th>\n",
       "      <th>GDP per capita in PPP</th>\n",
       "      <th>Total Population</th>\n",
       "      <th>Continent</th>\n",
       "    </tr>\n",
       "  </thead>\n",
       "  <tbody>\n",
       "    <tr>\n",
       "      <th>0</th>\n",
       "      <td>Albania</td>\n",
       "      <td>ALB</td>\n",
       "      <td>2010</td>\n",
       "      <td>0.069</td>\n",
       "      <td>9927.181841</td>\n",
       "      <td>2948000.0</td>\n",
       "      <td>Europe</td>\n",
       "    </tr>\n",
       "    <tr>\n",
       "      <th>1</th>\n",
       "      <td>Algeria</td>\n",
       "      <td>DZA</td>\n",
       "      <td>2010</td>\n",
       "      <td>0.144</td>\n",
       "      <td>12870.602699</td>\n",
       "      <td>35977000.0</td>\n",
       "      <td>Africa</td>\n",
       "    </tr>\n",
       "    <tr>\n",
       "      <th>2</th>\n",
       "      <td>Angola</td>\n",
       "      <td>AGO</td>\n",
       "      <td>2010</td>\n",
       "      <td>0.062</td>\n",
       "      <td>5897.682841</td>\n",
       "      <td>23356000.0</td>\n",
       "      <td>Africa</td>\n",
       "    </tr>\n",
       "  </tbody>\n",
       "</table>\n",
       "</div>"
      ],
      "text/plain": [
       "    Entity Code  Year  Waste per person(kg/day)  GDP per capita in PPP  \\\n",
       "0  Albania  ALB  2010                     0.069            9927.181841   \n",
       "1  Algeria  DZA  2010                     0.144           12870.602699   \n",
       "2   Angola  AGO  2010                     0.062            5897.682841   \n",
       "\n",
       "   Total Population Continent  \n",
       "0         2948000.0    Europe  \n",
       "1        35977000.0    Africa  \n",
       "2        23356000.0    Africa  "
      ]
     },
     "execution_count": 9,
     "metadata": {},
     "output_type": "execute_result"
    }
   ],
   "source": [
    "waste_gener.head(3)"
   ]
  },
  {
   "cell_type": "markdown",
   "metadata": {},
   "source": [
    "### Following is a dataset containing mismanaged plastic waste per person in Kg/day"
   ]
  },
  {
   "cell_type": "code",
   "execution_count": 10,
   "metadata": {},
   "outputs": [],
   "source": [
    "df2 = pd.read_csv('datasets/per-capita-mismanaged-plastic-waste-vs-gdp-per-capita.csv')"
   ]
  },
  {
   "cell_type": "code",
   "execution_count": 11,
   "metadata": {},
   "outputs": [],
   "source": [
    "df2.rename(columns={'Per capita mismanaged plastic waste': 'Mismanaged waste per person(kg/day)',\n",
    "                     'GDP per capita, PPP (constant 2011 international $)': 'GDP per capita in PPP',\n",
    "                     'Total population (Gapminder, HYDE & UN)': 'Total Population'}, inplace=True)\n",
    "df2.drop('Continent', axis=1, inplace=True)"
   ]
  },
  {
   "cell_type": "code",
   "execution_count": 12,
   "metadata": {},
   "outputs": [],
   "source": [
    "# new dataframe for the required data\n",
    "data2 = df2[df2['Year'] == 2010]"
   ]
  },
  {
   "cell_type": "code",
   "execution_count": 13,
   "metadata": {},
   "outputs": [],
   "source": [
    "# dropping rows with missing mismanaged waste values\n",
    "data2 = data2[data2['Mismanaged waste per person(kg/day)'].isna() != True]\n",
    "\n",
    "waste_misma = data2.reset_index().drop('index', axis=1)"
   ]
  },
  {
   "cell_type": "code",
   "execution_count": 14,
   "metadata": {},
   "outputs": [],
   "source": [
    "# joining both the dataframes\n",
    "plastic_waste = pd.merge(waste_gener, waste_misma, how='inner')"
   ]
  },
  {
   "cell_type": "code",
   "execution_count": 15,
   "metadata": {},
   "outputs": [],
   "source": [
    "# rearranging columns in the dataframe\n",
    "plastic_waste.columns.tolist()\n",
    "col_list = ['Entity','Code','Year','Waste per person(kg/day)','Mismanaged waste per person(kg/day)',\n",
    "           'GDP per capita in PPP','Total Population','Continent']\n",
    "plastic_waste = plastic_waste[col_list]\n",
    "\n",
    "# rounding the values per person\n",
    "plastic_waste.iloc[:, 3:5] = np.around(plastic_waste[['Waste per person(kg/day)', \n",
    "                                                      'Mismanaged waste per person(kg/day)']], decimals=2)\n",
    "\n",
    "# changing datatype\n",
    "plastic_waste['Total Population'] = plastic_waste['Total Population'].astype(int)"
   ]
  },
  {
   "cell_type": "markdown",
   "metadata": {},
   "source": [
    "#### Generating Total waste and Total mismanaged waste by country\n",
    "Total waste is achieved by using the product of waste generated per person per day and the total population of that country.\n",
    "Total mismanaged waste is achieved by using the product of mismanaged waste per person a day and the total population of that country.\n",
    "\n",
    "Both are then multiplied by 365 to get the value for a year."
   ]
  },
  {
   "cell_type": "code",
   "execution_count": 16,
   "metadata": {},
   "outputs": [
    {
     "data": {
      "text/html": [
       "<div>\n",
       "<style scoped>\n",
       "    .dataframe tbody tr th:only-of-type {\n",
       "        vertical-align: middle;\n",
       "    }\n",
       "\n",
       "    .dataframe tbody tr th {\n",
       "        vertical-align: top;\n",
       "    }\n",
       "\n",
       "    .dataframe thead th {\n",
       "        text-align: right;\n",
       "    }\n",
       "</style>\n",
       "<table border=\"1\" class=\"dataframe\">\n",
       "  <thead>\n",
       "    <tr style=\"text-align: right;\">\n",
       "      <th></th>\n",
       "      <th>Entity</th>\n",
       "      <th>Code</th>\n",
       "      <th>Year</th>\n",
       "      <th>Waste per person(kg/day)</th>\n",
       "      <th>Mismanaged waste per person(kg/day)</th>\n",
       "      <th>GDP per capita in PPP</th>\n",
       "      <th>Total Population</th>\n",
       "      <th>Continent</th>\n",
       "      <th>Total waste(kgs/year)</th>\n",
       "      <th>Total waste mismanaged(kgs/year)</th>\n",
       "    </tr>\n",
       "  </thead>\n",
       "  <tbody>\n",
       "    <tr>\n",
       "      <th>0</th>\n",
       "      <td>Albania</td>\n",
       "      <td>ALB</td>\n",
       "      <td>2010</td>\n",
       "      <td>0.07</td>\n",
       "      <td>0.03</td>\n",
       "      <td>9927.181841</td>\n",
       "      <td>2948000</td>\n",
       "      <td>Europe</td>\n",
       "      <td>7.532140e+07</td>\n",
       "      <td>3.228060e+07</td>\n",
       "    </tr>\n",
       "    <tr>\n",
       "      <th>1</th>\n",
       "      <td>Algeria</td>\n",
       "      <td>DZA</td>\n",
       "      <td>2010</td>\n",
       "      <td>0.14</td>\n",
       "      <td>0.09</td>\n",
       "      <td>12870.602699</td>\n",
       "      <td>35977000</td>\n",
       "      <td>Africa</td>\n",
       "      <td>1.838425e+09</td>\n",
       "      <td>1.181844e+09</td>\n",
       "    </tr>\n",
       "    <tr>\n",
       "      <th>2</th>\n",
       "      <td>Angola</td>\n",
       "      <td>AGO</td>\n",
       "      <td>2010</td>\n",
       "      <td>0.06</td>\n",
       "      <td>0.04</td>\n",
       "      <td>5897.682841</td>\n",
       "      <td>23356000</td>\n",
       "      <td>Africa</td>\n",
       "      <td>5.114964e+08</td>\n",
       "      <td>3.409976e+08</td>\n",
       "    </tr>\n",
       "    <tr>\n",
       "      <th>3</th>\n",
       "      <td>Anguilla</td>\n",
       "      <td>AIA</td>\n",
       "      <td>2010</td>\n",
       "      <td>0.25</td>\n",
       "      <td>0.01</td>\n",
       "      <td>NaN</td>\n",
       "      <td>13000</td>\n",
       "      <td>North America</td>\n",
       "      <td>1.186250e+06</td>\n",
       "      <td>4.745000e+04</td>\n",
       "    </tr>\n",
       "    <tr>\n",
       "      <th>4</th>\n",
       "      <td>Antigua and Barbuda</td>\n",
       "      <td>ATG</td>\n",
       "      <td>2010</td>\n",
       "      <td>0.66</td>\n",
       "      <td>0.05</td>\n",
       "      <td>19212.720131</td>\n",
       "      <td>88000</td>\n",
       "      <td>North America</td>\n",
       "      <td>2.119920e+07</td>\n",
       "      <td>1.606000e+06</td>\n",
       "    </tr>\n",
       "  </tbody>\n",
       "</table>\n",
       "</div>"
      ],
      "text/plain": [
       "                Entity Code  Year  Waste per person(kg/day)  \\\n",
       "0              Albania  ALB  2010                      0.07   \n",
       "1              Algeria  DZA  2010                      0.14   \n",
       "2               Angola  AGO  2010                      0.06   \n",
       "3             Anguilla  AIA  2010                      0.25   \n",
       "4  Antigua and Barbuda  ATG  2010                      0.66   \n",
       "\n",
       "   Mismanaged waste per person(kg/day)  GDP per capita in PPP  \\\n",
       "0                                 0.03            9927.181841   \n",
       "1                                 0.09           12870.602699   \n",
       "2                                 0.04            5897.682841   \n",
       "3                                 0.01                    NaN   \n",
       "4                                 0.05           19212.720131   \n",
       "\n",
       "   Total Population      Continent  Total waste(kgs/year)  \\\n",
       "0           2948000         Europe           7.532140e+07   \n",
       "1          35977000         Africa           1.838425e+09   \n",
       "2          23356000         Africa           5.114964e+08   \n",
       "3             13000  North America           1.186250e+06   \n",
       "4             88000  North America           2.119920e+07   \n",
       "\n",
       "   Total waste mismanaged(kgs/year)  \n",
       "0                      3.228060e+07  \n",
       "1                      1.181844e+09  \n",
       "2                      3.409976e+08  \n",
       "3                      4.745000e+04  \n",
       "4                      1.606000e+06  "
      ]
     },
     "execution_count": 16,
     "metadata": {},
     "output_type": "execute_result"
    }
   ],
   "source": [
    "plastic_waste['Total waste(kgs/year)'] = ((plastic_waste['Waste per person(kg/day)'] * \n",
    "                                    plastic_waste['Total Population']) * 365)\n",
    "plastic_waste['Total waste mismanaged(kgs/year)'] = ((plastic_waste['Mismanaged waste per person(kg/day)'] * \n",
    "                                    plastic_waste['Total Population']) * 365)\n",
    "\n",
    "\n",
    "plastic_waste.head()"
   ]
  },
  {
   "cell_type": "markdown",
   "metadata": {},
   "source": [
    "### Following graphs (Figure 1 & 2) shows the relationship between:\n",
    "####  1. Mismanaged waste & GDP\n",
    "####  2. Waste Generated & GDP\n",
    "\n",
    "Two Hypotheses were made, proposing a relation between the GDP and waste generated/waste mismanaged per person a day.\n",
    "\n",
    "    * First -  More the GDP per Capita of an entity more would be the waste mismanaged per person\n",
    "    * Second - More the GDP per Capita of an enity more would be the waste generation per person\n",
    "\n",
    "##### By looking the following graphs it can be seen that, \n",
    "    \n",
    "    1. It can be seen that, mismanaged waste does not increase with an increase in entity's GDP per capita\n",
    "    Hence, the evidence is enough to reject the claim.\n",
    "    __________________________________________________________________________________________________________\n",
    "    \n",
    "    2. In the second figure it can be seem that, total waste generated does increase with entity's GDP per capita\n",
    "    Hence, there is enough evidence to support the claim."
   ]
  },
  {
   "cell_type": "code",
   "execution_count": 30,
   "metadata": {},
   "outputs": [
    {
     "data": {
      "image/png": "[encoded data removed]",
      "text/plain": [
       "<Figure size 864x576 with 1 Axes>"
      ]
     },
     "metadata": {},
     "output_type": "display_data"
    }
   ],
   "source": [
    "%matplotlib inline\n",
    "\n",
    "plt.style.use('seaborn')\n",
    "plt.figure(1, figsize=(12,8))\n",
    "\n",
    "plt.scatter(plastic_waste['GDP per capita in PPP'], plastic_waste['Mismanaged waste per person(kg/day)'])\n",
    "plt.title('Waste Mismanaged by GDP', loc='center')\n",
    "plt.ylabel('Mismanaged waste per person(kg/day)', loc='center')\n",
    "plt.xlabel('GDP per capita in PPP')\n",
    "\n",
    "sns.regplot(x='GDP per capita in PPP', y='Mismanaged waste per person(kg/day)', data=plastic_waste,\n",
    "           scatter_kws={'color': '#380282'}, line_kws={'color': '#650021'})\n",
    "\n",
    "plt.show()"
   ]
  },
  {
   "cell_type": "code",
   "execution_count": 31,
   "metadata": {},
   "outputs": [
    {
     "data": {
      "image/png": "[encoded data removed]",
      "text/plain": [
       "<Figure size 864x576 with 1 Axes>"
      ]
     },
     "metadata": {},
     "output_type": "display_data"
    }
   ],
   "source": [
    "%matplotlib inline\n",
    "\n",
    "plt.style.use('seaborn')\n",
    "plt.figure(2, figsize=(12,8))\n",
    "\n",
    "plt.scatter(plastic_waste['GDP per capita in PPP'], plastic_waste['Waste per person(kg/day)'])\n",
    "plt.title('Waste Generated by GDP', loc='center')\n",
    "plt.ylabel('Waste per person(kg/day)', loc='center')\n",
    "plt.xlabel('GDP per capita in PPP')\n",
    "\n",
    "sns.regplot(x=plastic_waste['GDP per capita in PPP'], y=plastic_waste['Waste per person(kg/day)'],\n",
    "           scatter_kws={'color': '#650021'}, line_kws={'color': '#380282'})\n",
    "\n",
    "plt.show()"
   ]
  },
  {
   "cell_type": "code",
   "execution_count": 19,
   "metadata": {},
   "outputs": [],
   "source": [
    "# creating a CSV file of the cleaned data\n",
    "# if the file already exists in the folder, the file will not be created again\n",
    "\n",
    "plastic_waste.to_csv('datasets/plastic_waste.csv')"
   ]
  }
 ],
 "metadata": {
  "kernelspec": {
   "display_name": "Python 3",
   "language": "python",
   "name": "python3"
  },
  "language_info": {
   "codemirror_mode": {
    "name": "ipython",
    "version": 3
   },
   "file_extension": ".py",
   "mimetype": "text/x-python",
   "name": "python",
   "nbconvert_exporter": "python",
   "pygments_lexer": "ipython3",
   "version": "3.6.8"
  }
 },
 "nbformat": 4,
 "nbformat_minor": 4
}
